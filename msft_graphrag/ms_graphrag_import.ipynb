{
 "cells": [
  {
   "cell_type": "markdown",
   "id": "f0e5eec3-5e80-46f0-9eb3-94216915c65b",
   "metadata": {},
   "source": [
    "## Neo4j Import of GraphRAG Result Parquet files\n",
    "This notebook imports the results of the GraphRAG indexing process into the Neo4j Graph database for further processing, analysis or visualization.\n",
    "\n",
    "You can create a free Neo4j Graph database (free AuraDB) [here](https://neo4j.com/product/auradb/).\n",
    "\n",
    "### How does it work?\n",
    "The notebook loads the parquet files from the output folder of your indexing process and loads them into Pandas dataframes. It then uses a batching approach to send a slice of the data into Neo4j to create nodes and relationships and add relevant properties. The id-arrays on most entities are turned into relationships.\n",
    "\n",
    "All operations use `MERGE`, so they are idempotent, and you can run the script multiple times.\n",
    "\n",
    "If you need to clean out the database, you can run the following statement\n",
    "```\n",
    "MATCH (n)\n",
    "CALL { WITH n DETACH DELETE n } IN TRANSACTIONS OF 25000 ROWS;\n",
    "```"
   ]
  },
  {
   "cell_type": "code",
   "execution_count": 1,
   "id": "4581aea5-dacb-4bd3-b96c-f45d84ba05e3",
   "metadata": {},
   "outputs": [],
   "source": [
    "GRAPHRAG_FOLDER=\"artifacts\""
   ]
  },
  {
   "cell_type": "code",
   "execution_count": 2,
   "id": "54481183",
   "metadata": {},
   "outputs": [],
   "source": [
    "import pandas as pd\n",
    "from neo4j import GraphDatabase\n",
    "import time"
   ]
  },
  {
   "cell_type": "code",
   "execution_count": null,
   "id": "b6c15443-4acb-4f91-88ea-4e08abaa4c29",
   "metadata": {},
   "outputs": [
    {
     "data": {
      "text/plain": [
       "<neo4j._sync.driver.Neo4jDriver at 0x127c75760>"
      ]
     },
     "execution_count": 3,
     "metadata": {},
     "output_type": "execute_result"
    }
   ],
   "source": [
    "NEO4J_URI=\"neo4j+s://name.databases.neo4j.io\"\n",
    "NEO4J_USERNAME=\"neo4j\"\n",
    "NEO4J_PASSWORD=\"password\"\n",
    "NEO4J_DATABASE=\"neo4j\"\n",
    "\n",
    "driver = GraphDatabase.driver(NEO4J_URI, auth=(NEO4J_USERNAME, NEO4J_PASSWORD))\n",
    "driver"
   ]
  },
  {
   "cell_type": "code",
   "execution_count": 4,
   "id": "d787bf7b-ac9b-4bfb-b140-a50a3fd205c5",
   "metadata": {},
   "outputs": [],
   "source": [
    "def batched_import(statement, df, batch_size=1000):\n",
    "    \"\"\"\n",
    "    Import a dataframe into Neo4j using a batched approach.\n",
    "    Parameters: statement is the Cypher query to execute, df is the dataframe to import, \n",
    "    and batch_size is the number of rows to import in each batch.\n",
    "    \"\"\"\n",
    "    total = len(df)\n",
    "    start_s = time.time()\n",
    "    for start in range(0, total, batch_size):\n",
    "        batch = df.iloc[start: min(start+batch_size, total)]\n",
    "        result = driver.execute_query(\"UNWIND $rows AS value \" + statement, \n",
    "                                      rows=batch.to_dict('records'),\n",
    "                                      database_=NEO4J_DATABASE)\n",
    "        print(result.summary.counters)\n",
    "    print(f'{total} rows in {time.time() - start_s} s.')    \n",
    "    return total"
   ]
  },
  {
   "cell_type": "markdown",
   "id": "eceb8ef0-90fe-4aab-812b-def8f62fd0ad",
   "metadata": {},
   "source": [
    "### Indexes and Constraints\n",
    "Indexes in Neo4j are only used to find the starting points for graph queries, e.g. quickly finding two nodes to connect. Constraints exist to avoid duplicates, we create them mostly on id's of Entity types.\n",
    "\n",
    "We use some Types as markers with two underscores before and after to distinguish them from the actual entity types.\n",
    "\n",
    "The default relationship type here is `RELATED` but we could also infer a real relationship-type from the description or the types of the start and end-nodes.\n",
    "\n",
    "* `__Entity__`\n",
    "* `__Document__`\n",
    "* `__Chunk__`\n",
    "* `__Community__`\n",
    "* `__Covariate__`"
   ]
  },
  {
   "cell_type": "code",
   "execution_count": 5,
   "id": "ed7f212e-9148-424c-adc6-d81db9f8e5a5",
   "metadata": {},
   "outputs": [
    {
     "name": "stdout",
     "output_type": "stream",
     "text": [
      "\n",
      "create constraint chunk_id if not exists for (c:__Chunk__) require c.id is unique\n",
      "\n",
      "create constraint document_id if not exists for (d:__Document__) require d.id is unique\n",
      "\n",
      "create constraint entity_id if not exists for (c:__Community__) require c.community is unique\n",
      "\n",
      "create constraint entity_id if not exists for (e:__Entity__) require e.id is unique\n",
      "\n",
      "create constraint entity_title if not exists for (e:__Entity__) require e.name is unique\n",
      "\n",
      "create constraint entity_title if not exists for (e:__Covariate__) require e.title is unique\n",
      "\n",
      "create constraint related_id if not exists for ()-[rel:RELATED]->() require rel.id is unique\n"
     ]
    }
   ],
   "source": [
    "# create constraints, idempotent operation\n",
    "\n",
    "statements = \"\"\"\n",
    "create constraint chunk_id if not exists for (c:__Chunk__) require c.id is unique;\n",
    "create constraint document_id if not exists for (d:__Document__) require d.id is unique;\n",
    "create constraint entity_id if not exists for (c:__Community__) require c.community is unique;\n",
    "create constraint entity_id if not exists for (e:__Entity__) require e.id is unique;\n",
    "create constraint entity_title if not exists for (e:__Entity__) require e.name is unique;\n",
    "create constraint entity_title if not exists for (e:__Covariate__) require e.title is unique;\n",
    "create constraint related_id if not exists for ()-[rel:RELATED]->() require rel.id is unique;\n",
    "\"\"\".split(\";\")\n",
    "\n",
    "for statement in statements:\n",
    "    if len((statement or \"\").strip()) > 0:\n",
    "        print(statement)\n",
    "        driver.execute_query(statement)"
   ]
  },
  {
   "cell_type": "markdown",
   "id": "e9b611db-03d4-4afc-ba9c-a801c3d26d91",
   "metadata": {},
   "source": [
    "## Import Process\n",
    "### Importing the Documents\n",
    "We're loading the parquet file for the documents and create nodes with their ids and add the title property. We don't need to store text_unit_ids as we can create the relationships and the text content is also contained in the chunks."
   ]
  },
  {
   "cell_type": "code",
   "execution_count": 6,
   "id": "5ec93c92-499d-4ec6-bf3b-c34f74552600",
   "metadata": {},
   "outputs": [
    {
     "data": {
      "application/vnd.microsoft.datawrangler.viewer.v0+json": {
       "columns": [
        {
         "name": "index",
         "rawType": "int64",
         "type": "integer"
        },
        {
         "name": "id",
         "rawType": "object",
         "type": "string"
        },
        {
         "name": "human_readable_id",
         "rawType": "int64",
         "type": "integer"
        },
        {
         "name": "title",
         "rawType": "object",
         "type": "string"
        },
        {
         "name": "creation_date",
         "rawType": "object",
         "type": "string"
        },
        {
         "name": "metadata",
         "rawType": "object",
         "type": "unknown"
        }
       ],
       "conversionMethod": "pd.DataFrame",
       "ref": "0c649b88-e220-4cd1-a303-8bed88b107ef",
       "rows": [
        [
         "0",
         "6852a66a08b38d4d412f043ca78ada50c66b2bb5e4724a4a94fb2849d62ad29f0000613f83d8dea22b5462a419f011e4d5c5b9948c8e743dbb64c64fd090dda6",
         "1",
         "penitencia.txt",
         "2025-03-26 21:49:16 +0100",
         null
        ]
       ],
       "shape": {
        "columns": 5,
        "rows": 1
       }
      },
      "text/html": [
       "<div>\n",
       "<style scoped>\n",
       "    .dataframe tbody tr th:only-of-type {\n",
       "        vertical-align: middle;\n",
       "    }\n",
       "\n",
       "    .dataframe tbody tr th {\n",
       "        vertical-align: top;\n",
       "    }\n",
       "\n",
       "    .dataframe thead th {\n",
       "        text-align: right;\n",
       "    }\n",
       "</style>\n",
       "<table border=\"1\" class=\"dataframe\">\n",
       "  <thead>\n",
       "    <tr style=\"text-align: right;\">\n",
       "      <th></th>\n",
       "      <th>id</th>\n",
       "      <th>human_readable_id</th>\n",
       "      <th>title</th>\n",
       "      <th>creation_date</th>\n",
       "      <th>metadata</th>\n",
       "    </tr>\n",
       "  </thead>\n",
       "  <tbody>\n",
       "    <tr>\n",
       "      <th>0</th>\n",
       "      <td>6852a66a08b38d4d412f043ca78ada50c66b2bb5e4724a...</td>\n",
       "      <td>1</td>\n",
       "      <td>penitencia.txt</td>\n",
       "      <td>2025-03-26 21:49:16 +0100</td>\n",
       "      <td>None</td>\n",
       "    </tr>\n",
       "  </tbody>\n",
       "</table>\n",
       "</div>"
      ],
      "text/plain": [
       "                                                  id  human_readable_id  \\\n",
       "0  6852a66a08b38d4d412f043ca78ada50c66b2bb5e4724a...                  1   \n",
       "\n",
       "            title              creation_date metadata  \n",
       "0  penitencia.txt  2025-03-26 21:49:16 +0100     None  "
      ]
     },
     "execution_count": 6,
     "metadata": {},
     "output_type": "execute_result"
    }
   ],
   "source": [
    "doc_df = pd.read_parquet(f'{GRAPHRAG_FOLDER}/documents.parquet', \n",
    "                        columns=[\"id\", \"human_readable_id\", \"title\", \"creation_date\", \"metadata\"])\n",
    "doc_df.head(2)"
   ]
  },
  {
   "cell_type": "code",
   "execution_count": 7,
   "id": "ffd3d380-8710-46f5-b90a-04ed8482192c",
   "metadata": {},
   "outputs": [
    {
     "name": "stdout",
     "output_type": "stream",
     "text": [
      "{'_contains_updates': True, 'labels_added': 1, 'nodes_created': 1, 'properties_set': 4}\n",
      "1 rows in 0.1596050262451172 s.\n"
     ]
    },
    {
     "data": {
      "text/plain": [
       "1"
      ]
     },
     "execution_count": 7,
     "metadata": {},
     "output_type": "execute_result"
    }
   ],
   "source": [
    "# import documents\n",
    "document_statement = \"\"\"\n",
    "MERGE (d:__Document__ {id:value.id})\n",
    "SET d += value {.title, .human_readable_id, .creation_date, .metadata}\n",
    "\"\"\"\n",
    "batched_import(document_statement, doc_df)"
   ]
  },
  {
   "cell_type": "markdown",
   "id": "d9aa9028-4b62-4a14-86be-fad56b0c77f3",
   "metadata": {},
   "source": [
    "### Loading Text Units\n",
    "We load the text units, create a node per id and set the text and number of tokens. Then we connect them to the documents that we created before."
   ]
  },
  {
   "cell_type": "code",
   "execution_count": 8,
   "id": "140b420e-045e-4c71-9f25-1a20c5b528bd",
   "metadata": {},
   "outputs": [
    {
     "data": {
      "application/vnd.microsoft.datawrangler.viewer.v0+json": {
       "columns": [
        {
         "name": "index",
         "rawType": "int64",
         "type": "integer"
        },
        {
         "name": "id",
         "rawType": "object",
         "type": "string"
        },
        {
         "name": "text",
         "rawType": "object",
         "type": "string"
        },
        {
         "name": "n_tokens",
         "rawType": "int64",
         "type": "integer"
        },
        {
         "name": "document_ids",
         "rawType": "object",
         "type": "unknown"
        },
        {
         "name": "entity_ids",
         "rawType": "object",
         "type": "unknown"
        },
        {
         "name": "relationship_ids",
         "rawType": "object",
         "type": "unknown"
        },
        {
         "name": "covariate_ids",
         "rawType": "object",
         "type": "unknown"
        }
       ],
       "conversionMethod": "pd.DataFrame",
       "ref": "f2a52a83-9311-455a-827f-e2687c824eb7",
       "rows": [
        [
         "0",
         "b65bb9f86e8bf83b6a5c7e814c2bfb7d0d65bc4135b17f2ab6ec4cc0c54c5bd50ee6c51f38ab02b7e455a9f66627060979b43788a9b217479e52d25971882547",
         "Cap&#237;tulo 1 1 Llevaba recorridos poco más de setenta kilómetros, pero parecía que había pasado una eternidad desde que salió de Madrid. Una hora daba para pensar mucho. Tiempo de sobra para confirmar que había tomado la decisión acertada. No tenía la menor duda. El simple hecho de poner el pie en el acelerador resultaba liberador después de tantos años acostumbrado a sentarse en el asiento de atrás, mirando el móvil compulsivamente, como si la vida se le fuera en ello, como si no hubiera nada más importante que lo que dijeran de él en ese momento. Porque lo dicho en el instante anterior ya lo había visto y revisado, por supuesto. Ahora tenía el control, por eso pisaba a conciencia el acelerador. Necesitaba sentirlo, reafirmárselo con cada acción. Pero pasados los primeros minutos superando los límites permitidos, estableció la velocidad media en ciento veinte kilómetos por hora. Ni más ni menos: más le acojonaba y menos le impacientaba. Quería llegar cuanto antes. Había tomado la decisión hacía bastante tiempo, pero esperó a que todo estuviera listo para comunicarla de forma precipitaba, «sobre todo teniendo en cuenta la magnitud de sus consecuencias», como le habían reprochado. Por muchas vueltas que le diera, no le quedaba otra opción, si no quería dar mucho margen a chantajes e intentos para que se quedara. Tenía que ser un golpe seco que pusiera fin a todo. Ahora, después de tanta espera, no podía esperar a llegar a su destino. Pero la leve sonrisa de confianza, que le provocaba ver por el retrovisor cómo dejaba atrás su querida Madrid, se transformó en un gesto serio conforme recorría kilómetros, y la incertidumbre, que le provocaba lo desconocido, se hacía cada vez más presente. Por fin era dueño de su porvenir, pero ¿resultaría todo como había planeado? ¿Realmente encontraría lo que estaba buscando? ¿Dejaría atrás todo aquello que le perturbaba y que temía que acabara sacando lo peor de él? ¿Conseguiría volver a ser el mismo de siempre? El corazón le dio un vuelco al divisar el cartel que anunciaba la distancia y el nombre del lugar elegido. Por tonto que sonara, tenía la corazonada de que aquel cambio de rumbo, aquella decisión que pocos compartían, cambiaría su vida para siempre. Aminoró la velocidad y fue serpenteando las curvas contemplando el paisaje. Cauteloso, estudiando cada finca, cada urbanización, cada sendero de acceso a las casas desperdigadas por las laderas. Haciendo hincapié en las señales que anunciaban el camino hacia el pueblo. Su mirada se afilaba como la de un águila en busca de su presa, y en cuanto veía el menor riesgo de cruzarse con alguien, aceleraba para evitar llamar su atención. Se había cortado su larga melena impuesta por contrato. Llevaba gorra y gafas de sol: era prácticamente imposible que alguien le reconociera tan de pasada, más aún dentro de aquel vehículo. Nadie, ni siquiera él mismo, podría imaginarse que condujese un coche así, pero, aun así, toda precaución le parecía poca. Le había costado la vida dejar aparcado su cochazo, aquel que contradecía su discurso de que no le gustaba llamar la atención y que, por supuesto, seguía siendo el mismo de siempre. No lo era, ese era el problema y por eso tenía que cortar por lo sano. Su deportivo último modelo gris oscuro, con las ruedas y demás elementos externos en negro, pedía a gritos que le miraran: «Mírame bien, voy de que no, pero tengo un coche que tú no te lo podrías permitir ni en tus mejores sueños», podría haber sido perfectamente su eslogan. Le encantaba su coche pero había tenido que prescindir de él. Era tan espectacular que llamaba demasiado la atención y no solo por su diseño, sino porque, además, todo el mundo lo asociaba a él: la marca se lo había cedido tres años a cambio de subir un post mensual a sus redes sociales: maravillosas fotografías megaestudiadas acompañadas de textos en los que —aunque cantara La traviata, no habían sido escritos por él— no había podido cambiar ni una sola coma. La agencia de publicidad le obligaba a transcribirlos literalmente para asegurarse de que llegara su mensaje tal y como lo habían diseñado. Jon consideraba que ese peloteo mediático resultaba bochornoso y que realmente no era más que una manera de prostituirse. De ahí venía su conflicto: si lo pensaba fríamente, él ya tenía un buen coche y además el noventa y cinco por ciento de las veces le llevaban y le traían de vuelta. Pero, por otro lado, su parte en la trans",
         "1200",
         "['6852a66a08b38d4d412f043ca78ada50c66b2bb5e4724a4a94fb2849d62ad29f0000613f83d8dea22b5462a419f011e4d5c5b9948c8e743dbb64c64fd090dda6']",
         "['62b6d127-5d34-4e9e-aaa2-b3ca31dcfe8a'\n 'bb886006-70c3-4aec-9693-9f34e1e0fb40'\n '55008109-82e9-49ef-99a8-b5a0cfd26b83'\n '3bf63411-a110-48af-8abb-8affcb8a6e65'\n 'c3f58a19-d150-41be-af82-913932205f32'\n '8c9e5d76-0517-4627-9e23-59f1685bc01e'\n '07405109-232f-4232-8963-8a80481bff2d']",
         "['8376b416-8e30-40aa-883d-d244e3271841'\n 'b6d96662-eaa9-45e5-8e13-6da4a01071d5'\n '42014e4e-53c7-4abd-bb94-ae6a36963ee3'\n '9fef34c5-7b60-4e56-b6c3-b7377eab1ca4'\n 'ba4315a0-8e16-41f1-989f-5316ceaf8d1d'\n '96942c4f-9570-454b-a8f4-d8adec15eaf3']",
         "[]"
        ],
        [
         "1",
         "dc1d18ef85ca582714aa0a57b840c790e7eb76a5fba54ebf292cd674e73fdb8ef3152358df338b6d56804e022d8fb5f32f443e779068b4cd36ec0864ca671baf",
         " su mensaje tal y como lo habían diseñado. Jon consideraba que ese peloteo mediático resultaba bochornoso y que realmente no era más que una manera de prostituirse. De ahí venía su conflicto: si lo pensaba fríamente, él ya tenía un buen coche y además el noventa y cinco por ciento de las veces le llevaban y le traían de vuelta. Pero, por otro lado, su parte en la transacción resultaba ridícula y tener el último modelo en el mercado a cambio de tan poco esfuerzo resultaba de lo más tentador. Al fin y al cabo, ¡¿qué eran unas cuantas fotos más, comparadas con la exposición constante a la que se veía sometido?! Así que aceptó el trato. No podía negar que había sido una buena gestión de Julio. Él era su mejor amigo y representante. En ese orden, aunque lo segundo llevara a lo primero. Jon se sentía afortunado por ello: en el mundillo de los actores había mucho encantador de serpientes y no era fácil encontrar gente noble a la que le importaras de verdad. Julio se preocupaba por él, le cuidaba y mimaba en el día a día. Jon llevaba tantos años en los que el ámbito profesional se había impuesto al personal que, al final, se habían fundido en uno solo y lo había acabado compartiendo con él al cien por cien. La prueba de fuego para su amistad vino el día en el que Jon le contó que quería rescindir el contrato. En un primer momento puso el grito en el cielo, pero después terminó entendiendo la situación. Al menos de momento, porque Julio no se daba por vencido tan fácilmente. Pero Jon se lo perdonaba porque sabía que, por encima de todo, Julio era un buen tipo. Por eso Jon le dejó su coche con dos condiciones: que no se lo destrozara y que dejara de repetirle que estaba tomando la decisión equivocada. Cada vez faltaba menos para llegar según el GPS, que le indicaba que serpenteara el pequeño núcleo urbano. Así lo hizo, siguió conduciendo hasta alcanzar una de las zonas más altas que rodeaban al pueblo. Desde ahí se podían ver las estrechas calles que daban a la plaza principal, donde estaban el ayuntamiento, el mercado y los principales servicios. Aunque a esa altura todo parecía una maqueta, resultaba igual que en las fotos que había estudiado. La carretera continuaba hacia arriba y Jon siguió subiendo. Conforme el camino se estrechaba, el verde predominante desaparecía y el paisaje se volvía más árido y rocoso. A su mente vinieron miles de imágenes de los programas de Félix Rodríguez de la Fuente que veía cuando era pequeño. Las encinas y los alcornoques predominaban en el monte. En aquella época del año, sin apenas hojas, resultaban imponentes: sus enormes ramificaciones, con todo tipo de deformaciones, recordaban a largos brazos que parecía que quisieran agarrarle. No podía evitar imaginárselo, era el precio que pagaba por haberse criado viendo películas de terror sin parar. Pisó el acelerador. Tomó un par de curvas cerradas más y continuó hasta el final de la carretera, casi al borde del precipicio. Ahí, en medio de la nada, aparecía la vieja edificación que captaba toda su atención. Por más que supiera de su existencia, era irremediable no sorprenderse al encontrar una construcción tan alejada de todo, tan al borde del abismo. Aminoró la marcha y fue acercándose poco a poco, reconociendo el entorno escogido. Ahora que por fin estaba ahí le parecía como si aquel momento perteneciera a otra vida. Como si volviera a no ser él mismo, sino un nuevo personaje dentro de una nueva historia filmada por otro director con quien pelear hasta que le viera como él creía que debía de ser. Bajó la ventanilla, y el aire, que chocaba contra el flequillo de su tupé, que asomaba por la visera, refrescó la densidad del interior del Cuatro Latas que conducía muy a su pesar. Aquel lugar seguía tan decadente como lo recordaba. Cumplía todos sus requisitos y expectativas a la perfección: la fachada era muy antigua, de bloques de piedra vieja con zonas erosionadas y cubierta en gran parte por musgo incipiente. Estaba presidida por tres puertas que se extendían a lo largo de su perímetro: una de hierro industrial imitando antiguo; junto a ella, otra de óxido del tamaño estándar de un garaje particular, y, más apartada, una tercera realmente ajada, cubierta con maderas superpuestas con clavos oxidados, perteneciente a una casa que había pegada a la suya. De lejos parecía una sola vivienda, pero cuando te acercabas, pese a",
         "1200",
         "['6852a66a08b38d4d412f043ca78ada50c66b2bb5e4724a4a94fb2849d62ad29f0000613f83d8dea22b5462a419f011e4d5c5b9948c8e743dbb64c64fd090dda6']",
         "['bb886006-70c3-4aec-9693-9f34e1e0fb40'\n '750da1ec-cc37-4e3e-92f0-659186f7fbd5'\n '2d8f72ef-4d92-4afc-9f72-22161d2aaec9'\n '598b6280-f14a-4087-998f-49666d6adad5'\n 'b9ac4570-0ded-4231-8ef0-50846197550d'\n '670374a1-32b2-4c13-9c39-d9ad7902deb1'\n '84864f68-9ffb-4dd1-9a05-eb3337c44ffe'\n '50422c6f-15d3-4ac2-8b7c-1a763927b96d']",
         "['9478efec-44fb-45a9-b158-3812d39d6532'\n 'a231d3ed-a22d-4f74-b78a-c7b2141407ce'\n '40323832-174d-46c2-b720-8ab18bd78d1b'\n 'ac2fedcf-4265-4821-ae70-4a54de4ec1e0'\n 'cf252189-a4b0-4b5f-b6a0-f779372f07fb'\n '11c587d5-52a7-44da-ab70-81ca0eb9e6c7'\n '0ceaabef-5bb3-4e6c-94bd-f5972f557afd']",
         "[]"
        ]
       ],
       "shape": {
        "columns": 7,
        "rows": 2
       }
      },
      "text/html": [
       "<div>\n",
       "<style scoped>\n",
       "    .dataframe tbody tr th:only-of-type {\n",
       "        vertical-align: middle;\n",
       "    }\n",
       "\n",
       "    .dataframe tbody tr th {\n",
       "        vertical-align: top;\n",
       "    }\n",
       "\n",
       "    .dataframe thead th {\n",
       "        text-align: right;\n",
       "    }\n",
       "</style>\n",
       "<table border=\"1\" class=\"dataframe\">\n",
       "  <thead>\n",
       "    <tr style=\"text-align: right;\">\n",
       "      <th></th>\n",
       "      <th>id</th>\n",
       "      <th>text</th>\n",
       "      <th>n_tokens</th>\n",
       "      <th>document_ids</th>\n",
       "      <th>entity_ids</th>\n",
       "      <th>relationship_ids</th>\n",
       "      <th>covariate_ids</th>\n",
       "    </tr>\n",
       "  </thead>\n",
       "  <tbody>\n",
       "    <tr>\n",
       "      <th>0</th>\n",
       "      <td>b65bb9f86e8bf83b6a5c7e814c2bfb7d0d65bc4135b17f...</td>\n",
       "      <td>Cap&amp;#237;tulo 1 1 Llevaba recorridos poco más ...</td>\n",
       "      <td>1200</td>\n",
       "      <td>[6852a66a08b38d4d412f043ca78ada50c66b2bb5e4724...</td>\n",
       "      <td>[62b6d127-5d34-4e9e-aaa2-b3ca31dcfe8a, bb88600...</td>\n",
       "      <td>[8376b416-8e30-40aa-883d-d244e3271841, b6d9666...</td>\n",
       "      <td>[]</td>\n",
       "    </tr>\n",
       "    <tr>\n",
       "      <th>1</th>\n",
       "      <td>dc1d18ef85ca582714aa0a57b840c790e7eb76a5fba54e...</td>\n",
       "      <td>su mensaje tal y como lo habían diseñado. Jon...</td>\n",
       "      <td>1200</td>\n",
       "      <td>[6852a66a08b38d4d412f043ca78ada50c66b2bb5e4724...</td>\n",
       "      <td>[bb886006-70c3-4aec-9693-9f34e1e0fb40, 750da1e...</td>\n",
       "      <td>[9478efec-44fb-45a9-b158-3812d39d6532, a231d3e...</td>\n",
       "      <td>[]</td>\n",
       "    </tr>\n",
       "  </tbody>\n",
       "</table>\n",
       "</div>"
      ],
      "text/plain": [
       "                                                  id  \\\n",
       "0  b65bb9f86e8bf83b6a5c7e814c2bfb7d0d65bc4135b17f...   \n",
       "1  dc1d18ef85ca582714aa0a57b840c790e7eb76a5fba54e...   \n",
       "\n",
       "                                                text  n_tokens  \\\n",
       "0  Cap&#237;tulo 1 1 Llevaba recorridos poco más ...      1200   \n",
       "1   su mensaje tal y como lo habían diseñado. Jon...      1200   \n",
       "\n",
       "                                        document_ids  \\\n",
       "0  [6852a66a08b38d4d412f043ca78ada50c66b2bb5e4724...   \n",
       "1  [6852a66a08b38d4d412f043ca78ada50c66b2bb5e4724...   \n",
       "\n",
       "                                          entity_ids  \\\n",
       "0  [62b6d127-5d34-4e9e-aaa2-b3ca31dcfe8a, bb88600...   \n",
       "1  [bb886006-70c3-4aec-9693-9f34e1e0fb40, 750da1e...   \n",
       "\n",
       "                                    relationship_ids covariate_ids  \n",
       "0  [8376b416-8e30-40aa-883d-d244e3271841, b6d9666...            []  \n",
       "1  [9478efec-44fb-45a9-b158-3812d39d6532, a231d3e...            []  "
      ]
     },
     "execution_count": 8,
     "metadata": {},
     "output_type": "execute_result"
    }
   ],
   "source": [
    "text_df = pd.read_parquet(f'{GRAPHRAG_FOLDER}/text_units.parquet',\n",
    "                        columns=[\"id\", \"text\", \"n_tokens\", \"document_ids\", \n",
    "                                \"entity_ids\", \"relationship_ids\", \"covariate_ids\"])\n",
    "text_df.head(2)"
   ]
  },
  {
   "cell_type": "code",
   "execution_count": 9,
   "id": "1d038114-0714-48ee-a48a-c421cd539661",
   "metadata": {},
   "outputs": [
    {
     "name": "stdout",
     "output_type": "stream",
     "text": [
      "{'_contains_updates': True, 'labels_added': 109, 'relationships_created': 109, 'nodes_created': 109, 'properties_set': 763}\n",
      "109 rows in 0.6662468910217285 s.\n"
     ]
    },
    {
     "data": {
      "text/plain": [
       "109"
      ]
     },
     "execution_count": 9,
     "metadata": {},
     "output_type": "execute_result"
    }
   ],
   "source": [
    "text_unit_statement = \"\"\"\n",
    "MERGE (c:__Chunk__ {id:value.id})\n",
    "SET c += value {.text, .n_tokens},\n",
    "    c.name = 'Chunk',\n",
    "    c.entity_ids = value.entity_ids,\n",
    "    c.relationship_ids = value.relationship_ids,\n",
    "    c.covariate_ids = value.covariate_ids\n",
    "WITH c, value\n",
    "UNWIND value.document_ids AS document_id\n",
    "MATCH (d:__Document__ {id:document_id})\n",
    "MERGE (c)-[:PART_OF]->(d)\n",
    "\"\"\"\n",
    "\n",
    "batched_import(text_unit_statement, text_df)"
   ]
  },
  {
   "cell_type": "markdown",
   "id": "9c614c5f-6925-4237-a1bf-6ebd35dcea38",
   "metadata": {},
   "source": [
    "### Loading Nodes\n",
    "For the nodes we store id, name, description, embedding (if available), human readable id."
   ]
  },
  {
   "cell_type": "code",
   "execution_count": 10,
   "id": "5e713603-c508-4964-ba49-474e4867b747",
   "metadata": {},
   "outputs": [
    {
     "data": {
      "application/vnd.microsoft.datawrangler.viewer.v0+json": {
       "columns": [
        {
         "name": "index",
         "rawType": "int64",
         "type": "integer"
        },
        {
         "name": "id",
         "rawType": "object",
         "type": "string"
        },
        {
         "name": "human_readable_id",
         "rawType": "int64",
         "type": "integer"
        },
        {
         "name": "title",
         "rawType": "object",
         "type": "string"
        },
        {
         "name": "type",
         "rawType": "object",
         "type": "string"
        },
        {
         "name": "description",
         "rawType": "object",
         "type": "string"
        },
        {
         "name": "text_unit_ids",
         "rawType": "object",
         "type": "unknown"
        },
        {
         "name": "frequency",
         "rawType": "int64",
         "type": "integer"
        },
        {
         "name": "degree",
         "rawType": "int64",
         "type": "integer"
        },
        {
         "name": "x",
         "rawType": "float64",
         "type": "float"
        },
        {
         "name": "y",
         "rawType": "float64",
         "type": "float"
        }
       ],
       "conversionMethod": "pd.DataFrame",
       "ref": "c57754bf-ed57-4c9e-b809-8bc3c684a244",
       "rows": [
        [
         "0",
         "62b6d127-5d34-4e9e-aaa2-b3ca31dcfe8a",
         "0",
         "MADRID",
         "GEO",
         "Madrid is the capital city of Spain, known for its vibrant culture and rich history. It is a significant location in the narrative, as it is where Jon has lived until now and has recently moved from, expressing a desire to be closer to nature. Additionally, Madrid is home to the neighborhood of Tetuán, where a crime occurred, and it is also where Laurita, another character in the story, has been residing for years. Overall, Madrid serves as a central backdrop for the characters' experiences and developments within the narrative.",
         "['b65bb9f86e8bf83b6a5c7e814c2bfb7d0d65bc4135b17f2ab6ec4cc0c54c5bd50ee6c51f38ab02b7e455a9f66627060979b43788a9b217479e52d25971882547'\n 'a07104ce2a611e98a82020dcbbfbb4aea57898887e03e1609f19470f5ec77beb75a87309c6535c25936e68b1eca1e1774826a0990bbf261a58876292d297e47c'\n 'f0d07d3eccf29acb79f8b9f0161ab60626acefa58e6a9429ea14f39ab4baddd52cb55bef538086685877f5ea4f3fb3af12cf18f5b45e070854f748ea7b28d58b'\n 'e13920bd8272086711e7035ca77eaa7ca2e50ab30e7d704cd8c99981ca91b262d19cc1704caaeca62d33652582556a18e770f152fc82187e43e7e296e083cb8e'\n 'e2154ee781a252f765a2d4e7557b826915f29048130e4445cdb47192a42d8b4f535338311c51a75bb6a023053b0f817f87fc4ce7596f8576d83d96f3d05ba8bb'\n '73191843ba51836db50ad460233d29cca320b31769249d3d292ac529024dc1075b04f4b9e4891ea815daf860a2abb6ec28a6639f466bd79bb8fd6e57ffa6ed37']",
         "6",
         "4",
         "0.0",
         "0.0"
        ],
        [
         "1",
         "bb886006-70c3-4aec-9693-9f34e1e0fb40",
         "1",
         "JON",
         "PERSON",
         "Jon is a complex character navigating a tumultuous landscape of emotions, relationships, and personal history. He is portrayed as an actor who is not only preparing for a role in a miniseries focused on real-life stories of loss and recovery but is also deeply affected by his past experiences, particularly a traumatic event involving a woman named Celia, whose fate haunts him. This incident has left him grappling with feelings of guilt, fear, and paranoia, especially as he deals with unsettling noises from a neighboring house and the implications of his actions.\n\nThroughout the narrative, Jon experiences significant emotional distress and isolation, reflecting on his life choices and the impact of his work on his identity. He is often anxious about being recognized as a famous actor, which adds to his struggles with privacy and public perception. His relationship with Laura is central to his emotional journey; he shows concern for her well-being and engages in deep conversations about their pasts, revealing a sensitive side that contrasts with his public persona.\n\nJon's life is marked by a series of intense and often frightening events, including encounters with mysterious figures and the pressures of dealing with fans. He is depicted as someone who is trying to maintain control over chaotic situations, whether it involves a potential threat from a neighbor or the emotional turmoil stemming from his past. His interactions with Laura are particularly significant, as they reveal his desire for connection and understanding amidst his internal conflicts.\n\nAs he navigates these challenges, Jon reflects on his living space, his relationships, and the changes he has undergone, including a recent move that symbolizes a new chapter in his life. He is portrayed as someone who is both introspective and reactive, often caught between his darker impulses and a yearning for redemption. Ultimately, Jon's journey is one of self-discovery, as he seeks to reconcile his past with his present while grappling with the complexities of love, loss, and the quest for justice.",
         "['b65bb9f86e8bf83b6a5c7e814c2bfb7d0d65bc4135b17f2ab6ec4cc0c54c5bd50ee6c51f38ab02b7e455a9f66627060979b43788a9b217479e52d25971882547'\n 'dc1d18ef85ca582714aa0a57b840c790e7eb76a5fba54ebf292cd674e73fdb8ef3152358df338b6d56804e022d8fb5f32f443e779068b4cd36ec0864ca671baf'\n '87a014234374c8bc75a97357cac08ea7b246c9bab5376dff8f5bfc40b7bc1784cde709b33ae5717edb84b3c8d8f0f721955aca824b73db2e212d98321e3a8ee6'\n 'da5b98d5d131e88a13bc6e542b796b5686e7c70e4416f9de696e3223138f1d898c8b067e5b307f43ff66952e7e0cd85fd9b54e6498764030a7e0f8a8ed543a24'\n '0635907245d0f984d40739d87dd47cd78a2a92e9c1c3b92ea50b760fcdc161c58ce397a0cc27edeb58818d9a86b972f469e19cb4dd0f76cc4423543574723de9'\n 'c7e8621e3465881a1f853d8822aa6295eeec5149e76473b6f81ee885db525fa60617d678307bee564a02d84afc1e3997e0c0753e393c883ff4432cec1c40c386'\n 'c813e40b1334aeea56720adbe0e99eb140fc2b49da8cb1e4345b21180b9f76b462ec23ddb9d0f418f1c5afb50a23ccf0fcf03398c0ba916d9804a29883856cc6'\n '51bcb7d3a9c83c15b9eb26f693192e61f78b93d80525278435e77c2e4b498ae2f33c9d273211a0042ac99b27d000ec0bbb939d741d008e2833c4fcd6fa3605f8'\n '728311e7eaa4c758a158da02320eeea1c959ffc130bf33b5c9d6b074d97b695c61b2dcf5aafe96513a9f3a57c58bc0d91dc78e2191d3f2df2210158e7f62010d'\n 'a07104ce2a611e98a82020dcbbfbb4aea57898887e03e1609f19470f5ec77beb75a87309c6535c25936e68b1eca1e1774826a0990bbf261a58876292d297e47c'\n '5c8caedb7e789e6d9849f232b911eb36075d6a1ff317d9e0db83324274fa47b222ab2178fdcfa4aa237db69a4a51e81cf91c6369ad7f9ed1028731ab417f13a2'\n '0b52aa9da5315149ef4ac6bd24769720f0624d95d99d7d3de6ef627b89ec95163eca81dbeb5b2f7e43fdb23a689118b01fc85e93a618dbfb2cdd85b3f1b4fc54'\n '8b224cc9a917cbf0468e087a15dd6405c4c80a63dc8e7a499256017836a5c2cefeadc1396a132bf83bb87847023ef04f446785ef4b80d7a5926fb7ab95a79ef9'\n '320fe769d1d49556a37b4e78bbf3a12c6cec448eed717b7c33a46703e0544b416003f314ce23c84a9e244001ba34a208adef6264b647795bb96e70038891188f'\n '5985e062300a6942ade76ecf2740f98f91c683d9e4f23374a6424e0e80d9acb40a210e32b7c0ace8f0475a94e16165c936be919c5496d5b2f48be39a336f6966'\n 'd444223275186d61b03551d7544d195c6780fe111381d6a1e01616d78e21ab9bdf5a4d4e22f120aa22a6b599e8f2c46d907e9e95317ba7dd7f619bb746c04713'\n 'd0b7009f3c7676d697fd50965de1f33dbdfd919a90e15ea8b72ecab06d8c361dd2ae274668ee338f2b07bd329bc12a69598a0b2d9ceb7c067052cc51a869bcc2'\n '6109ec99df78258f4c34acf389a7408005c9f154bc458e260f1f451a23db1ede663b1ee131a92c632e7f205f767d2d399dd936ce3d235869431a0d7bc0edb053'\n '3321b4418d1fb3a4c69a3c67c5ed235d28e0f7e3ad67e936fbdabb6f9c87ffb67d726dceacec65b7ba6544fe9c3091044b111f2ddbb6a125c78943398be71d95'\n '7be4fb3f40640f9fd5014b053996422d96262569cd8732ed363bef1a172546e8f23a2af9cf3e8aeabb0909bdc4ab6cd8da73536b83aec4e3ac19e5ba21d18e11'\n '855195eaea6307b4230932864867af9656dc2a0ef12fb3d389db9e2726c56a69665cc7b6641d226cad63633a0144307e7b13dc48294e234bcd3dae83abdb8fc8'\n 'ffeb2cbe5f2ed9c2da1dd2cabce108ec3c22a735ed8b3fb4dd54db597586b242877adb686f3be539c7fceab79e07060954bebdb86d9aac285cb580c7f1593675'\n 'e6b9493138b1bec7354cb97f50192900824773e6182ec70c27d4103ce38d551ac9881987cc113ddd33f8058fc17c9b06e02ea1149273c0a0a5cc308994d64293'\n 'f0d07d3eccf29acb79f8b9f0161ab60626acefa58e6a9429ea14f39ab4baddd52cb55bef538086685877f5ea4f3fb3af12cf18f5b45e070854f748ea7b28d58b'\n '4951758edd584740d50f935f0aec38d5808994f23b59acf8de80363e89e3685be6c647bfad8993597437a837c841038f5f404212b8c350ac90ecd628513a7332'\n '25adcb32d16d760078c7bdd08e20af21f4e82a2ba07d94a8ebb40418d030bda98c7e52fe1db897572e3179bfa18a90faa7361fce2762d8e83cbedb534e622c91'\n '9da97067b66d5056d000646d9c1bf37a0041193ee23a70878c125cb60bfbe594c0c44867db517eba66b58f7517812ba2e6505d69c13d09a7b0bbbfcd2afddef5'\n 'ceded977149be1f47c333580fb0158ebb567e06ea8f66fe5991d2311fd2c00baf2770ab5d208911f80513591d3af57a6583dfda847686030a92272567df7c95a'\n '219495869205f998e32ea3d634dad1445d8c5b92d809c6350ca224d3d550d013373f6a1422f0f9f83de387fc1dae4fccad2012815518fbb3c39320bac45a3f07'\n '627d7174380b7a2616a102a6753c67045986f9078a9a76087db6dcf1fa115d99981010bd105db1890c00fdf915af328ec5faea6f688613b48665442789131c34'\n '423d1b7e5e2029d025b28d683a2d2a47cc7a910d9a8a8cd644582e388a118ff645b62d90f3dce6b623ae8bbdc431d229d230897f2541fc88fe6b23c87e90af69'\n 'b8137b3b83c4aa9d53a360c04451a69ff970de9e15b3f0cc705fb0b7c940cc24660003fd95867942d41af36240f39e32163074752ad8f05b62e984dbffcb99bc'\n 'c85c2a12f504753aed2b002370ad49aa602eecee763552880a6ecf9618be9f3b0a558fe365560233104558b3930517bec23bb70d10ed07470bf10d845d53ce97'\n 'd6821ea2dbd2470a4c3b8c9c9b5dc3d3b8ed6c4ac107b2a07afb7ec8ab3093bd061ac3c5ec7f035d88b614f21ad2164fa1a30bb70e17282852cca4a034a6c44d'\n '7f4cded2711a8d178700de0a9b100e2c601739a21e495cefa692ac9df3beef52a7bd53396124433d58950b770d338d0580f58aba6b6f535302a3ab8c822aef27'\n '8a95fc1876235c5192bc8472ca2c2bd43b22bf701ebec48a78be9499d2f96a23208a76d476f4f496cdb56ae86ecfc48895c8d4da8a070830bf1cd74a91dabc69'\n '6e0f12be26e0548f4480b15c5561bf59204071ea8b8b4f49f584d0f16d0e587f3d34c0ea5839c2e055a354b72d0139256b216775912005b1d03ecb5b3a0e46b4'\n '09961e5117378bc3d19b28fcc24d88ffb07b4d0c4d39f9add1f7aa159cfbc5b935e178b2912624cb6f8b1dc1a612a2c55b51c6275c85ced652065016993be13e'\n '3aabeda820816b814029235e2366ff5dd8c608a4b00f1ca351e859decf52228377aecc1c4f898c8fef999b5ffbf309db431375a971b8ee8f18427b69b0a75283'\n '05556bd966301e3b323373b9702882e2a86c0b976fa6e7b0b4bd1b00bf44bcc431584050cb9e8d631573e3641db141e8aa67e74f3347792472fd69cbfbaf059a'\n '838b548fc3eccc618bcb341c68c763aaf73545719060d178fc9f7d93cd096b195cc6dfdb626e7e4ab31cd453c3ef1b1a1fd0fe5728c01e57cab3353e35215474'\n 'f462641a2ee0716f38e69466f5344bff0929d086f2cd4a5d4f5e56aa47a56a6a8cad9f41024c8c0c44810c232cfe9dab2d6cebb0c00af99c5023a0befc8baf7c'\n 'e13920bd8272086711e7035ca77eaa7ca2e50ab30e7d704cd8c99981ca91b262d19cc1704caaeca62d33652582556a18e770f152fc82187e43e7e296e083cb8e'\n '9e0705f640b47ed821ec0df09266b61f1a061d6c5f23e56c54130363a1ba321d3412bfa734a14ae11ab0120d9fe2c54ab055925eac807357d4c303972373d507'\n 'b29b761dad15f5c9971d02a0089892bd8ae14eb6daeaeec12bd70d2970797f814dec67b0387664d48a0fdf4ecad9af479bdd9c59e2afed0d2f7810811fd77eaf'\n '25694e6f3685aa44fb7771922ca6e9aaae1942eaff89423f725befcb7d9d14bba7deff6db30ae1f1b171d29354dd0eacbc2569b1a8e8d1c764785affb79c1956'\n '04f60d35ff6ea1d13757a9caa8f310a5ff40558dc46a4354d4f7f947a6406e1eff7214d775033f9cf7e481d1a14c19a2e3f66f2f2eb9bed2e53b0f1fbaaa3535'\n '1250439644704dac4c6ff9e31ac556df80ef4daa78ad239e4c1b8e4d8269490cff3073490c2d10e368effb88d06b02a500b0fc87cbbb87f27d4c55a3f70db0c2'\n 'b8ac64bc74ee127e1c3beeec0279994a7d145c2301875b6e651e9bbdeec9c03ad2df60078ea09ce71e66d853086bece486a2127ac595a260635256128b9db5bf'\n 'e0cad1df4e299eda26ccd201f1199acb025e83846c50c218f2eba3a904a1b3f31688db061121300101eaf37fc57938f78c8f9e7407f775b19776aebfaedd85d7'\n 'a32d6718bf7f4bec8451b6f378ee3aa9f771f6995b0f009afae6939e93bca90eceeac37c8ef7c837f4afd09b69ee352de74e7ad98b7963f7d25dd32178f85edf'\n '62a6e59e71c3bc834edbf2a8cc652e413e220492e4f05ee9443de1b5961f27401d9a6c1b3fc98b207273b057833632c05a7ccc9a776e851fd4ecd4eae6413b6f'\n '33dd8afb2455cb4946ba5fe4dd694ec03736f3079ad162d946b96c17fb98f6e95654c88dd4cb0ed0e4d38bd2ecf2310c252573eeae58dcbdb539479e6611b21a'\n 'a90c8c306ec074d06953dbcbd674d5986597af6d046fd723889ad42c4e8750d7d656c1cad6308af5a2afb3733e7766a237af70a22050fea90217e40f2251df6f'\n '691a1fa3c8c3be6e46bf8db5200549cc25f7ec93436c50b91db81bf285bc2e1814be443cf53e0c04b61cd64c08cb31097bb4f4dedf99d37d5557af9892b0b516'\n 'c7db7d0e1422bbee44f750fb1470a5610947a84ac179d7e8e908da593e9135c61659ae539ebd479e5cc05fb38662db8d924140fcf93048440cb565cc633d6dd4'\n 'e2154ee781a252f765a2d4e7557b826915f29048130e4445cdb47192a42d8b4f535338311c51a75bb6a023053b0f817f87fc4ce7596f8576d83d96f3d05ba8bb'\n '6f4bd9d8d0e7df5b7307b973b4ef2e0299f6e605f149415372c4c723ef8466106a58693d7219b2bf4e389a0b9cdac861bfbe896ed00dc38a8580640e98e79e83'\n '74760eb8f7b51c462c9355cdfc6beaeb6e18da73e7bf2facba1db35a58192c72d7d86a5ac400116bcbb297012dc863c305b91797c9b733a7af86b4b62d92e1c2'\n 'e135030eb88247d618e17feb476f9377b57cabe8d4ea51a9c77a0f1dacf4bd0342f7d475a5663590624e83f5162ffb168f9f360844a7e0d26c5ecf666cd50a63'\n 'b6de6f6a9fcee03d082a7e72c3dadd1982707155a73484d7cc0a5846d6cf9b2f78916c17ed1729314bf17f6799be45fcc548a1637774854753948a5015bcde4d'\n '4925643c0689bb0f0f32df1bc0a1e6eb3a3f626a073517f5fe6f4b80ddc290dd01d6154ff135504c3246baa4d7bb71127847ff756a25cf3ee924039608f5db70'\n 'f0f3fe69d85101aa9a3bd0ab3eb6cfddda1f314d5f1a412e60dae8ed7b11da4b8a99c260ef7ce0af8b40d7ff46908d227c5fd8949cec12673609ab034f400a6d'\n '7a9b112fba4fc0a6bc7f050a795413eb1aa543be9ba792ab1d87ab1222e7312194f3942f70e1e2e358bba48a0d514a7dfd1c16227f148ca77fcad83a6c91feca'\n 'a8c6cedb079038b8f98054688a2731a435f517c61c1e937976e407553a06e1814fb791f0d569340f81c5dfd320906a485803a6284189ae05ec37e2c20bee6d64'\n '6e9ed00bf9d6111315a7ebc30a0d3d5b36ee005c43cc295cdbcd46b8c05ae921ebffad8b6bafe7885115008f09eac30ffacf9029bf89cc9af8557b9822ad56dd'\n '5aa2bbaba77452fc40362b5d4b90955c9276871de575fe8bc2ff12bae7aa016c7ddfd5ecffe0d11aaa2dc88b44745035cabf8ebaa7bd95271925f8f3fdfffdc7'\n '481461d59dc4e4d2c260956068b6fec5179c76dee24d02c71b6a927dbb3bb212182d4924d47c25b5db04aa851547144edf92b4582f28c5706e1ff5ba89e9bb1c'\n '236aac07128c785791748437d5eb5360382b0b1b80479dd30d34b5202fbc74788887d30d8f8506a4770eaf662b2d44353f088750fe0a243b49967e2604b55f8a'\n 'b82db259aefe5c21bcecff8592c614389ff67316d5dfd6aaa0e045b285fdb3ce517f70cd199d60dd6879cb573a7dcd64dddf463506ed454836c07d6c7699d61f'\n 'cb6ff6db7b62e9c78c99e98e108a458686c5fccc0866687b49d0635d34f6a8cc5c9275d8c3552cbdd1494f1299879d16a2a911d7fb98ec2d4cf0b1a1c539ef5d'\n '869ba0c3f3a8d6a41b4c2724750306b29b9bc8f1efa4bdb68412ac12360db20156a61b80ff411c5379daec3c3fc8d99625e2621b4e1bdd4dc4f7e562603b8f20'\n '5c883e5ddec8beb92dc97b16caca9ad8e04be15891c5387935ff88e4f5d3cd61989d7dc0388cab5f5e571b9a2b9b143e2cd3ec672dca00c8177542bb66543583'\n '2529b6327db261f875da2389419dda652afd3557bba30e19f5c5f2bfc25ccb7c5b0148243e760190a295194e0d310359bccf73686f8151ed018dc862d6384d9a'\n '49665edf51897693b0844b3a64cd6d212eab862eba7d6c188504c10bfb7fd76de8f508e30a375df13e7534c5aab2dbb5724e98213bb2a27d8b71ddad92ab554b'\n 'd14e070d242a92035c5ddf01cefaa35d71b87e705c95f521ddbf1fe4178d7cc3ab4b7cbcf164471208b3d1b3c14578f47a34ca00ef3ba4c5a5b1367c3a9a2945'\n '7097f8465eaafef0584123230edcc8e239d98eeb21e70e7231608570f4531d0d309b7ff55ca9b56332832941cc3d0bf44659e19be7c129e803a9984e114ad6d2'\n '4f1dc0ed244be5949f32724ab47aa26ed080e516c51d4d97ca7beabf7713f4b9be93f542036ef318ee551f43d7fadf64de68ee8a5b1f92b7b696accb0950fe54'\n '0432d276c182aa29456c067d9ae892765781722497b33da21e997a7517c26b6297d563694d7b94d0b46258748b7794c66323d13422a62a9b8dc2a4f8336e1e22'\n 'cf1798f63947c33cbc50e9c84c6c7e9ee15b9efe03919769649df44d34b367ca6676eebdc9929d4fd3e318a46b57a35f48f0150d664f02a1bec704da45d9cfd7'\n 'cdfa8ed7c1aa1ac3074c0157cfde45a64b74cc706421112902031fa0c5f0290d33869cab043fac100df86e83e33fe3a9ac583632bd3666fcd3df8ee9c6fb8336'\n 'fd14f5db10e3125fc8291e16ddeb6ab3565e93b70ff6d6ee5eb19430ebec1c820fb70c54e59027b5c142c719c5f42db8c9f5b428cc7af8286d4d84069504ed1f']",
         "82",
         "218",
         "0.0",
         "0.0"
        ]
       ],
       "shape": {
        "columns": 10,
        "rows": 2
       }
      },
      "text/html": [
       "<div>\n",
       "<style scoped>\n",
       "    .dataframe tbody tr th:only-of-type {\n",
       "        vertical-align: middle;\n",
       "    }\n",
       "\n",
       "    .dataframe tbody tr th {\n",
       "        vertical-align: top;\n",
       "    }\n",
       "\n",
       "    .dataframe thead th {\n",
       "        text-align: right;\n",
       "    }\n",
       "</style>\n",
       "<table border=\"1\" class=\"dataframe\">\n",
       "  <thead>\n",
       "    <tr style=\"text-align: right;\">\n",
       "      <th></th>\n",
       "      <th>id</th>\n",
       "      <th>human_readable_id</th>\n",
       "      <th>title</th>\n",
       "      <th>type</th>\n",
       "      <th>description</th>\n",
       "      <th>text_unit_ids</th>\n",
       "      <th>frequency</th>\n",
       "      <th>degree</th>\n",
       "      <th>x</th>\n",
       "      <th>y</th>\n",
       "    </tr>\n",
       "  </thead>\n",
       "  <tbody>\n",
       "    <tr>\n",
       "      <th>0</th>\n",
       "      <td>62b6d127-5d34-4e9e-aaa2-b3ca31dcfe8a</td>\n",
       "      <td>0</td>\n",
       "      <td>MADRID</td>\n",
       "      <td>GEO</td>\n",
       "      <td>Madrid is the capital city of Spain, known for...</td>\n",
       "      <td>[b65bb9f86e8bf83b6a5c7e814c2bfb7d0d65bc4135b17...</td>\n",
       "      <td>6</td>\n",
       "      <td>4</td>\n",
       "      <td>0.0</td>\n",
       "      <td>0.0</td>\n",
       "    </tr>\n",
       "    <tr>\n",
       "      <th>1</th>\n",
       "      <td>bb886006-70c3-4aec-9693-9f34e1e0fb40</td>\n",
       "      <td>1</td>\n",
       "      <td>JON</td>\n",
       "      <td>PERSON</td>\n",
       "      <td>Jon is a complex character navigating a tumult...</td>\n",
       "      <td>[b65bb9f86e8bf83b6a5c7e814c2bfb7d0d65bc4135b17...</td>\n",
       "      <td>82</td>\n",
       "      <td>218</td>\n",
       "      <td>0.0</td>\n",
       "      <td>0.0</td>\n",
       "    </tr>\n",
       "  </tbody>\n",
       "</table>\n",
       "</div>"
      ],
      "text/plain": [
       "                                     id  human_readable_id   title    type  \\\n",
       "0  62b6d127-5d34-4e9e-aaa2-b3ca31dcfe8a                  0  MADRID     GEO   \n",
       "1  bb886006-70c3-4aec-9693-9f34e1e0fb40                  1     JON  PERSON   \n",
       "\n",
       "                                         description  \\\n",
       "0  Madrid is the capital city of Spain, known for...   \n",
       "1  Jon is a complex character navigating a tumult...   \n",
       "\n",
       "                                       text_unit_ids  frequency  degree    x  \\\n",
       "0  [b65bb9f86e8bf83b6a5c7e814c2bfb7d0d65bc4135b17...          6       4  0.0   \n",
       "1  [b65bb9f86e8bf83b6a5c7e814c2bfb7d0d65bc4135b17...         82     218  0.0   \n",
       "\n",
       "     y  \n",
       "0  0.0  \n",
       "1  0.0  "
      ]
     },
     "execution_count": 10,
     "metadata": {},
     "output_type": "execute_result"
    }
   ],
   "source": [
    "entity_df = pd.read_parquet(f'{GRAPHRAG_FOLDER}/entities.parquet',\n",
    "                          columns=[\"id\", \"human_readable_id\", \"title\", \"type\", \"description\", \n",
    "                                  \"text_unit_ids\", \"frequency\", \"degree\", \"x\", \"y\"])\n",
    "entity_df.head(2)"
   ]
  },
  {
   "cell_type": "code",
   "execution_count": 11,
   "id": "27900c01-89e1-4dec-9d5c-c07317c68baf",
   "metadata": {},
   "outputs": [
    {
     "name": "stdout",
     "output_type": "stream",
     "text": [
      "{'_contains_updates': True, 'labels_added': 392, 'nodes_created': 392, 'properties_set': 3920}\n",
      "392 rows in 0.6980679035186768 s.\n"
     ]
    },
    {
     "data": {
      "text/plain": [
       "392"
      ]
     },
     "execution_count": 11,
     "metadata": {},
     "output_type": "execute_result"
    }
   ],
   "source": [
    "entity_statement = \"\"\"\n",
    "MERGE (e:__Entity__ {id:value.id})\n",
    "SET e.name = coalesce(value.title, value.id),\n",
    "    e += value {.human_readable_id, .title, .description, .frequency, .degree, .x, .y},\n",
    "    e.text_unit_ids = value.text_unit_ids\n",
    "WITH e, value\n",
    "CALL apoc.create.addLabels(e, \n",
    "      case when coalesce(value.type,\"\") = \"\" then [] \n",
    "      else [apoc.text.upperCamelCase(replace(value.type,'\"',''))] end) \n",
    "YIELD node\n",
    "RETURN count(*)\n",
    "\"\"\"\n",
    "\n",
    "batched_import(entity_statement, entity_df)"
   ]
  },
  {
   "cell_type": "markdown",
   "id": "619e1dd1-06ab-4741-9f5c-f1c7fb8f8bac",
   "metadata": {},
   "source": [
    "### Import Relationships\n",
    "For the relationships we find the source and target node by name, using the base `__Entity__` type. After creating the RELATED relationships, we set the description as attribute."
   ]
  },
  {
   "cell_type": "code",
   "execution_count": 12,
   "id": "1be9e7a9-69ee-406b-bce5-95a9c41ecffe",
   "metadata": {},
   "outputs": [
    {
     "data": {
      "application/vnd.microsoft.datawrangler.viewer.v0+json": {
       "columns": [
        {
         "name": "index",
         "rawType": "int64",
         "type": "integer"
        },
        {
         "name": "id",
         "rawType": "object",
         "type": "string"
        },
        {
         "name": "source",
         "rawType": "object",
         "type": "string"
        },
        {
         "name": "target",
         "rawType": "object",
         "type": "string"
        },
        {
         "name": "description",
         "rawType": "object",
         "type": "string"
        },
        {
         "name": "weight",
         "rawType": "float64",
         "type": "float"
        },
        {
         "name": "combined_degree",
         "rawType": "int64",
         "type": "integer"
        },
        {
         "name": "text_unit_ids",
         "rawType": "object",
         "type": "unknown"
        }
       ],
       "conversionMethod": "pd.DataFrame",
       "ref": "b1a0fb64-df10-4ee4-a116-1d997b5559b0",
       "rows": [
        [
         "0",
         "8376b416-8e30-40aa-883d-d244e3271841",
         "MADRID",
         "JON",
         "Jon is leaving Madrid, indicating a significant life change and departure from his past",
         "8.0",
         "222",
         "['b65bb9f86e8bf83b6a5c7e814c2bfb7d0d65bc4135b17f2ab6ec4cc0c54c5bd50ee6c51f38ab02b7e455a9f66627060979b43788a9b217479e52d25971882547']"
        ],
        [
         "1",
         "b6d96662-eaa9-45e5-8e13-6da4a01071d5",
         "JON",
         "COCHE DEPORTIVO",
         "Jon had to leave his sports car behind, which symbolizes his struggle with his public image",
         "7.0",
         "219",
         "['b65bb9f86e8bf83b6a5c7e814c2bfb7d0d65bc4135b17f2ab6ec4cc0c54c5bd50ee6c51f38ab02b7e455a9f66627060979b43788a9b217479e52d25971882547']"
        ]
       ],
       "shape": {
        "columns": 7,
        "rows": 2
       }
      },
      "text/html": [
       "<div>\n",
       "<style scoped>\n",
       "    .dataframe tbody tr th:only-of-type {\n",
       "        vertical-align: middle;\n",
       "    }\n",
       "\n",
       "    .dataframe tbody tr th {\n",
       "        vertical-align: top;\n",
       "    }\n",
       "\n",
       "    .dataframe thead th {\n",
       "        text-align: right;\n",
       "    }\n",
       "</style>\n",
       "<table border=\"1\" class=\"dataframe\">\n",
       "  <thead>\n",
       "    <tr style=\"text-align: right;\">\n",
       "      <th></th>\n",
       "      <th>id</th>\n",
       "      <th>source</th>\n",
       "      <th>target</th>\n",
       "      <th>description</th>\n",
       "      <th>weight</th>\n",
       "      <th>combined_degree</th>\n",
       "      <th>text_unit_ids</th>\n",
       "    </tr>\n",
       "  </thead>\n",
       "  <tbody>\n",
       "    <tr>\n",
       "      <th>0</th>\n",
       "      <td>8376b416-8e30-40aa-883d-d244e3271841</td>\n",
       "      <td>MADRID</td>\n",
       "      <td>JON</td>\n",
       "      <td>Jon is leaving Madrid, indicating a significan...</td>\n",
       "      <td>8.0</td>\n",
       "      <td>222</td>\n",
       "      <td>[b65bb9f86e8bf83b6a5c7e814c2bfb7d0d65bc4135b17...</td>\n",
       "    </tr>\n",
       "    <tr>\n",
       "      <th>1</th>\n",
       "      <td>b6d96662-eaa9-45e5-8e13-6da4a01071d5</td>\n",
       "      <td>JON</td>\n",
       "      <td>COCHE DEPORTIVO</td>\n",
       "      <td>Jon had to leave his sports car behind, which ...</td>\n",
       "      <td>7.0</td>\n",
       "      <td>219</td>\n",
       "      <td>[b65bb9f86e8bf83b6a5c7e814c2bfb7d0d65bc4135b17...</td>\n",
       "    </tr>\n",
       "  </tbody>\n",
       "</table>\n",
       "</div>"
      ],
      "text/plain": [
       "                                     id  source           target  \\\n",
       "0  8376b416-8e30-40aa-883d-d244e3271841  MADRID              JON   \n",
       "1  b6d96662-eaa9-45e5-8e13-6da4a01071d5     JON  COCHE DEPORTIVO   \n",
       "\n",
       "                                         description  weight  combined_degree  \\\n",
       "0  Jon is leaving Madrid, indicating a significan...     8.0              222   \n",
       "1  Jon had to leave his sports car behind, which ...     7.0              219   \n",
       "\n",
       "                                       text_unit_ids  \n",
       "0  [b65bb9f86e8bf83b6a5c7e814c2bfb7d0d65bc4135b17...  \n",
       "1  [b65bb9f86e8bf83b6a5c7e814c2bfb7d0d65bc4135b17...  "
      ]
     },
     "execution_count": 12,
     "metadata": {},
     "output_type": "execute_result"
    }
   ],
   "source": [
    "rel_df = pd.read_parquet(f'{GRAPHRAG_FOLDER}/relationships.parquet',\n",
    "                       columns=[\"id\", \"source\", \"target\", \"description\", \"weight\", \n",
    "                               \"combined_degree\", \"text_unit_ids\"])\n",
    "rel_df.head(2)"
   ]
  },
  {
   "cell_type": "code",
   "execution_count": 13,
   "id": "5c6ed591-f98c-4403-9fde-8d4cb4c01cca",
   "metadata": {},
   "outputs": [
    {
     "name": "stdout",
     "output_type": "stream",
     "text": [
      "{'_contains_updates': True, 'relationships_created': 496, 'properties_set': 2480}\n",
      "496 rows in 1.8233850002288818 s.\n"
     ]
    },
    {
     "data": {
      "text/plain": [
       "496"
      ]
     },
     "execution_count": 13,
     "metadata": {},
     "output_type": "execute_result"
    }
   ],
   "source": [
    "rel_statement = \"\"\"\n",
    "// Match source and target by ID or name, prioritizing exact ID match\n",
    "OPTIONAL MATCH (source:__Entity__ {id: value.source}) \n",
    "WITH source, value\n",
    "OPTIONAL MATCH (source2:__Entity__ {name: value.source}) \n",
    "WITH coalesce(source, source2) as source, value\n",
    "WHERE source IS NOT NULL\n",
    "\n",
    "OPTIONAL MATCH (target:__Entity__ {id: value.target})\n",
    "WITH source, target, value\n",
    "OPTIONAL MATCH (target2:__Entity__ {name: value.target})\n",
    "WITH source, coalesce(target, target2) as target, value\n",
    "WHERE target IS NOT NULL\n",
    "\n",
    "// Create relationship and set properties\n",
    "MERGE (source)-[rel:RELATED {id: value.id}]->(target)\n",
    "SET rel += value {.weight, .description, .combined_degree}\n",
    "SET rel.text_unit_ids = value.text_unit_ids\n",
    "\"\"\"\n",
    "\n",
    "batched_import(rel_statement, rel_df)"
   ]
  },
  {
   "cell_type": "markdown",
   "id": "67d02faf-b305-44c0-9cba-7328d61b833d",
   "metadata": {},
   "source": [
    "### Importing Communities\n",
    "For communities we import their id, title, level. We connect the `__Community__` nodes to the start and end nodes of the relationships they refer to.\n",
    "\n",
    "Connecting them to the chunks they orignate from is optional, as the entites are already connected to the chunks."
   ]
  },
  {
   "cell_type": "code",
   "execution_count": 14,
   "id": "523bed92-d12c-4fc4-aa44-6c62321b36bc",
   "metadata": {},
   "outputs": [
    {
     "data": {
      "application/vnd.microsoft.datawrangler.viewer.v0+json": {
       "columns": [
        {
         "name": "index",
         "rawType": "int64",
         "type": "integer"
        },
        {
         "name": "id",
         "rawType": "object",
         "type": "string"
        },
        {
         "name": "community",
         "rawType": "int64",
         "type": "integer"
        },
        {
         "name": "level",
         "rawType": "int64",
         "type": "integer"
        },
        {
         "name": "parent",
         "rawType": "int64",
         "type": "integer"
        },
        {
         "name": "children",
         "rawType": "object",
         "type": "unknown"
        },
        {
         "name": "title",
         "rawType": "object",
         "type": "string"
        },
        {
         "name": "entity_ids",
         "rawType": "object",
         "type": "unknown"
        },
        {
         "name": "relationship_ids",
         "rawType": "object",
         "type": "unknown"
        },
        {
         "name": "text_unit_ids",
         "rawType": "object",
         "type": "unknown"
        },
        {
         "name": "period",
         "rawType": "object",
         "type": "string"
        },
        {
         "name": "size",
         "rawType": "int64",
         "type": "integer"
        }
       ],
       "conversionMethod": "pd.DataFrame",
       "ref": "70363cb1-cb02-4066-9d0e-b9c61561b653",
       "rows": [
        [
         "0",
         "49481fe5-d264-48b4-aadf-825ffadfa4dc",
         "0",
         "0",
         "-1",
         "[12 13]",
         "Community 0",
         "['bb886006-70c3-4aec-9693-9f34e1e0fb40'\n '0397ff7e-49b0-4923-995b-bff07dd634fb'\n '07405109-232f-4232-8963-8a80481bff2d'\n '736b7bfb-1641-4d06-8d11-dca96ad6ecc3'\n 'acb20b30-4f49-4b3b-9d7f-8c01db78cf1d'\n '4509b138-e8b5-43ca-9f5e-540b819d4406'\n '97955910-80d6-4872-871f-9aff72d1ba87'\n 'e1c6497e-d025-49d3-bacd-1bbf3894a31d'\n 'c470ef2c-91c5-41f7-8fbf-ede9410dcb8b'\n '13dec9c4-d4db-49ba-9810-3965b6d9669f'\n '33c37a78-997c-40a3-864a-84b9e5f8e631'\n 'd4a3b0dc-cb37-44ff-a6e5-e4d266f5ff2a'\n '9b490138-db5b-4a99-8ab6-f1e9c1638929'\n '433a8454-b071-46ea-b98a-4e6d8517f9e7'\n 'c35e98ec-8802-4572-9e50-aec08d91d748'\n '2418f681-b283-4845-9206-f3c4d86c2876'\n '89dfb34a-2d87-4c9e-8dec-3b50dd084deb'\n '5c120d5b-5d4c-4869-afee-166353a6d3aa'\n '702b3326-1752-4222-94be-243b095dffd7'\n '6124b2ef-121c-4c64-be6b-1cfafc9e25b1'\n '2185ccaa-8799-4917-944b-d893f39b29c7'\n 'e4ccca67-17ca-40cc-bc83-ac90d0392fea'\n '6b399e7e-ab7e-4e21-8aef-d8e935f60831'\n '3bf63411-a110-48af-8abb-8affcb8a6e65'\n 'bc1b6bf8-64c4-4355-81c9-6b3ae4eae6ad'\n '42072ba4-4c8d-4311-b1a8-22339f74eff4'\n 'f5e29253-917c-494c-8d8c-ddbadf9667a5'\n '8c9e5d76-0517-4627-9e23-59f1685bc01e'\n 'ce8926f6-f6b7-456b-8f71-62f279b68515'\n '0e287b8d-f584-4a40-b24d-c82d38d620a4'\n '8018eded-b00a-4751-acb8-d82877f06710'\n 'a2027319-75a3-4f4a-b89e-ea070cad2ce5'\n '2d8f72ef-4d92-4afc-9f72-22161d2aaec9'\n '0a386b4e-4395-40d0-8fd8-9445ef732420'\n '680b5c60-67b2-4d4b-888d-673e763169de'\n '5a3de2ae-c08f-4099-b488-4ae5ccf61b28'\n '8c4339b4-61a0-4971-ab9d-ed2d05620099'\n '5249364f-401b-4017-a16d-b03ebd280e6b'\n 'b4c11be6-5a65-4b25-8f22-9f491a415988'\n 'cf359e85-f528-4d1c-8083-06f7e7926ab6'\n '70f9122c-61c6-4c56-b5ed-bbbec28f8099'\n 'f42c5838-58d9-4002-afd1-ec5f919d6df1'\n 'b159f1d6-ffec-4efc-b2c0-30034f4f5a51'\n '92e09dd6-8d73-4849-ada8-1d98e9ecebdd'\n 'fa5acb96-1f79-4363-964d-45ad1d65fcf2'\n '7b9be46b-f8ef-433d-ae5c-de9f9beb7f7a'\n '540a85b4-fad8-4635-9c8f-9e2fedecc366'\n '9bd77431-2adc-4888-9718-145a63d1b88d'\n 'a5754c25-24c3-4778-807c-1edd898054cf'\n '4c8e6415-875c-4793-9f88-60eab873620e'\n '598b6280-f14a-4087-998f-49666d6adad5'\n 'aad25cb2-23db-462c-a48e-bdaf3872528d'\n '6928aa65-4991-4f5d-83bb-eed1a6d03d6f'\n '76afb2f6-9b65-419a-8e96-14e7891b264a'\n 'd016f189-4fc8-45f1-a018-7db2577b5a26'\n '5217ea69-83b0-4e98-92cc-bcfe4414ed85'\n '398b2201-4355-4d1d-aeca-7e294c49e3f4'\n '2e7294fd-cccc-436f-904e-426210201d36'\n 'f5b7846c-230e-4708-a79c-53022eb3695a'\n 'b4f7ff08-6c29-4987-9efe-7b8dd6730dc8'\n 'a2a063d5-6fe7-4d61-91db-56454f9026db'\n '268cda27-b4ff-4518-a2af-895469ed48ba'\n '7d6e2a64-b128-4711-9369-5d3a6ea04126'\n 'b6568d32-cf67-4fc1-80c5-78fa1348de31'\n 'ba12b4b8-5f6b-4f75-ab7d-0991dcb150fe'\n '55008109-82e9-49ef-99a8-b5a0cfd26b83'\n '3cd9d93b-4fbf-444e-858b-3ced37fdbc39'\n 'a0093fc7-423f-4319-ba35-ab229d3bda77'\n '7c8775a6-150d-4d40-9413-1894b8002469'\n 'f5eb7b29-26dc-4874-8ee9-d39f9d68aa74'\n '1cc0a6c3-d2c9-411c-be7a-341200aca5b8'\n 'b9ac4570-0ded-4231-8ef0-50846197550d'\n 'adc4c41d-0fcb-4261-bc24-002dbdd79566'\n '9d772ab3-7eb2-4ecb-b03a-5681d0de6704'\n 'cf2a9713-3f80-46ee-9b4a-68db4531825d'\n 'f199d7a5-360c-4d8e-a4bc-c941ac8b6303'\n '679a66ee-ba8a-4330-9efb-c379c5fb36c8'\n '8cf13ae4-530c-49c1-8f0a-36de49a74de6'\n 'e73d75c6-c99d-404f-ba81-0cb503683483'\n '200e6ab2-e565-470e-8d87-affaeccf4d16'\n '692384bd-d5f8-4b09-b51b-143b3832cae0'\n '2a1872b6-fb32-4e10-b6d1-a9c0cba18afc'\n '9ea90fc6-48e7-4d3e-8792-0551cb65ded5'\n '1768f62c-3470-4da3-9a74-be2ec6b92540'\n '2964cf40-7463-4060-8564-ad412acc4a87'\n '84864f68-9ffb-4dd1-9a05-eb3337c44ffe'\n '6bac38ff-e74a-422a-827a-4699910ab53c'\n '5b9320cf-cc11-492b-9e6a-59618f81e58d'\n 'efef63a9-02e4-4bfe-a99e-bf7b7b6a8492'\n '66e2fa1b-b77c-463b-b998-73abf82d9529'\n 'f3e05c54-f78a-4f86-90e6-5e61219d4789'\n '1c912d01-d338-4b7c-a5b4-a60d4e95abd9'\n '1067d6f0-7e18-4682-99e0-23a34834033e'\n 'fe18cb45-cb7d-4369-ae2e-e0368c87ca61'\n '7c96750d-59f7-44fd-9513-dd23e6bdbd25'\n '670374a1-32b2-4c13-9c39-d9ad7902deb1'\n '668f2b96-d0f0-4884-80fb-06fc7aa5ff87'\n 'ec762cb0-3778-4b15-891a-7bcbc6997ef2'\n 'f548e4ca-95eb-4bf5-9046-818f7c3e3feb'\n '6d5d1de8-f30a-4a59-8f79-b01b6ec14b4f'\n '7adc8d7e-af2b-4865-bb49-afb5ba94e2bb'\n 'bdeaa7c2-41f2-4e9c-8ec2-ad7bdff341c5'\n 'c3f58a19-d150-41be-af82-913932205f32'\n '1a538751-ecbc-4b1c-b6e9-fc567afce27b'\n 'bd112925-bb61-4cf5-9ff4-e000a21821bf'\n '969adc39-93a9-494e-91c1-ccabc2e11ea8'\n '7e2befe6-db46-43d6-abe3-a527ea631d2b'\n '92ea26bf-f20e-4494-b46d-aaae155c1b68'\n '64076eea-e047-44c7-a85a-6433c5010735'\n 'cdc2dc74-f639-490d-b307-e647bc43c58c'\n '9cc1e752-9318-4e30-89e9-f271550da328'\n '78b3a702-05aa-4db6-88da-3793731dbcc2'\n 'cf0554a6-267b-4f64-98d7-cfd77f21f92a'\n '7db719e0-2c8d-4c97-b579-b870e52ebc48'\n 'e4b75baa-bd0c-4495-8a68-e487efd33a73'\n '6fcbd18a-fa5c-4cf2-a8c6-a5cdb0616851'\n 'afd32b60-8546-48c2-8af9-52cbddaa7b81'\n '05dca3d4-3f54-492c-9a34-bc748e9f1240'\n '4da0fe03-4691-4e2f-ba60-4317b37de7fc'\n 'fec2b734-4360-4484-a212-a7c07ce618bd'\n '360ff4cc-1068-493b-bf0b-df44b250f10f'\n '8d4e2705-e65e-4645-9a50-87973aeaa72e'\n 'ed203124-13af-4424-bcf6-a37181c57e2f'\n '77b68d9a-1fb2-45f6-a511-e0e2571edcbb'\n 'c655ce50-5e2b-4ba0-ad95-6a3073970cd2'\n '39d16463-2025-4e56-af36-165f024835ee'\n 'ed996070-a07f-42b0-b77b-03daf01f8919'\n '8687d7da-babd-4213-8f2b-2a2a0978dd89'\n '35fb521e-0e28-44ca-9e4d-d8facd7109ac'\n '4734931f-aa9b-4249-8f6d-38adf9fe408d'\n 'db7a52bc-645b-40f3-8d2e-837459620aec']",
         "['002dd161-6def-4b65-b5d8-9e724d1dbc06'\n '00d323b6-ee6c-4c6f-9f04-f015ef52baf8'\n '024b147c-bb50-4dab-8acb-eab8cf9b7cbf'\n '051bdab8-f4d1-403a-9687-369898906a09'\n '06213b9b-8925-440f-817f-27d8faef225f'\n '06dc3acd-b3d8-43fa-99fa-d651bed3223a'\n '0804b3ed-89b4-4721-85ee-1487040c67aa'\n '087438db-7580-4748-a521-5abf72ea29b0'\n '09343f38-fdb1-4f77-a802-fdb6361f7687'\n '0ceaabef-5bb3-4e6c-94bd-f5972f557afd'\n '0f453566-ffb9-4738-b299-dcb2c1d2dfd6'\n '11a9abe3-8532-417e-a471-483fa3196bd1'\n '11c587d5-52a7-44da-ab70-81ca0eb9e6c7'\n '193f8a3f-5b22-4da5-8027-06bda9070ad4'\n '1c579ec5-3d58-4f8b-aaa9-14f1bdada030'\n '1fcac035-d08d-4b09-8966-06c6b3986fd9'\n '207eaeeb-2f85-4ad9-9923-183266feb70c'\n '208e5415-3869-43e3-bfec-24386d991fae'\n '24991ccd-b3eb-4062-a960-913b2f60b5eb'\n '26654837-7d30-41b3-9754-7866dc647c43'\n '27685ca0-a248-4598-a5ae-6d90150a67ba'\n '276aea0f-342e-4451-8a1c-b6aae967932c'\n '2abc465a-d33f-4b75-88de-664af621ef3d'\n '3195f4bb-9b27-4c67-8bd3-28a7ec90b170'\n '334796d6-fa3f-4fb1-ac44-5b46787bab6d'\n '3360fc1a-3583-4580-a727-3fbc52b437e1'\n '3512d835-9dfd-4648-b2a9-2a8753f8c95e'\n '36d166ee-f014-4b11-8383-6d37ccefc6e5'\n '379624e4-2b68-4403-9450-a164556a298d'\n '38475889-cf36-462d-a576-6ee27b597729'\n '39bbeafa-e052-45c2-991f-b40c3a63a672'\n '3a8c8449-8a63-4206-86e1-3ba6836235ff'\n '3b66be02-15ce-4b6e-99f0-a4fa8a492463'\n '3bcd1c0b-e2e5-468a-9642-e528dbe10ae9'\n '3cd691d8-5f39-492d-aa7c-ea34e584cba3'\n '40323832-174d-46c2-b720-8ab18bd78d1b'\n '42014e4e-53c7-4abd-bb94-ae6a36963ee3'\n '42125b3c-d640-43f5-a2bb-8d8a3cc0dc05'\n '422c10dc-2fe4-424c-b4e4-72ef4006d875'\n '468df241-66d5-4574-9ff4-3e1010c4e901'\n '480adc94-9316-4b7b-a6b1-7efd20c5cdc9'\n '4a315d88-5228-46a8-9a6e-a86454799503'\n '4e559a75-1a5e-4557-bb0e-83f75209100a'\n '561c5e33-ca21-4bf1-9667-9ac899d603e9'\n '56a2e136-fa93-41a2-af0a-7c6a76254768'\n '5710d6bf-1a08-49ea-84e6-e16941ec5004'\n '5aadc776-ce20-4183-9ea6-b559e8e18fac'\n '5af37843-eeb1-4398-85cc-0d4ce8e78c66'\n '5b0ae795-e759-425d-87ff-6ec0516bab40'\n '5e48a8b5-7664-4189-ac5f-786c8b012a10'\n '5e6a8503-3329-4615-a586-52b9e643be08'\n '5eaaa26f-84ca-4db3-952d-9e49e755c27c'\n '5f048395-92a2-4981-bce3-c9c0d67474c9'\n '5f274070-6536-44f1-ad84-f5cba82fa50d'\n '5fc13a55-28cd-4c5c-9c15-39a00606cd0d'\n '61628030-2dc3-4fc6-9a0e-640cf0e95c91'\n '6350b6ce-2c43-48d0-aaa9-fdec6f9e739e'\n '647656f5-c8d2-4f05-98cc-55b338cf7d1a'\n '6818841f-47e6-4d6f-983a-28d39a0aa3dc'\n '69fcd8a2-2ca8-4fd1-852b-7ad4b6438fb7'\n '6abff099-3813-447a-9034-6a87317099fd'\n '6baec56e-1d31-4549-937c-2105bd830fc1'\n '6fc27f29-ccc3-49aa-8c0f-3adf8c394660'\n '73053a17-f7e5-4161-be03-4df58ec1aab6'\n '738460b3-de18-4e70-819c-429edad575bd'\n '758d2a5a-3d8d-476e-8de1-5800b12b9ead'\n '792f6108-aca5-4a6f-ae33-3840c52e184f'\n '7a8eead9-84be-43f9-8872-0b7670587969'\n '7b3b17b5-72f4-49c2-b1fd-8a96eda64351'\n '8382f1f1-d36a-4a10-adb2-1f7d044d52dd'\n '88ee21ab-fcb4-48dd-88c3-88ddfda6aebd'\n '902cd654-8356-4232-b877-a34cfa0ac625'\n '94e800b5-bc78-40b6-9b00-ad95015155ba'\n '96942c4f-9570-454b-a8f4-d8adec15eaf3'\n '9d7d8217-2457-40ad-8fda-f9b608c15dd8'\n '9fef34c5-7b60-4e56-b6c3-b7377eab1ca4'\n 'a09dec5d-1cd9-43eb-ad18-2549681ee392'\n 'a1134f99-c8d4-4455-867c-d3f60021ab09'\n 'a231d3ed-a22d-4f74-b78a-c7b2141407ce'\n 'a49a147a-d5e7-4f79-878d-660e2f5ba701'\n 'a577934d-cd18-44b1-8654-40b5825414b1'\n 'a6ece390-856f-49d7-8e03-2fdcfd8f0644'\n 'af05524c-65ff-400a-a8cc-a3724f17af3d'\n 'b4dc8b5e-cb1d-4963-95c3-abaca70befa9'\n 'b54d143d-1cb6-4730-a49f-63969eedb7ac'\n 'b6d96662-eaa9-45e5-8e13-6da4a01071d5'\n 'b860cf5d-9397-4412-9546-90c99ac15a99'\n 'b8e2ef39-9bdc-4587-9c25-24405074b068'\n 'b8f79498-f81d-446a-a208-7c25490efa15'\n 'b9b7759e-7af3-4a0f-b8fb-d9a7bca97ab1'\n 'ba4315a0-8e16-41f1-989f-5316ceaf8d1d'\n 'bf56d5f5-5b8c-4f9e-a894-1d250a31d930'\n 'bfd1237b-3b50-4b52-9788-09254a89f97d'\n 'c0e50c76-d433-4435-9f1b-80383314cd66'\n 'c2e76f5c-4b13-4599-8707-c43dbbba6bc0'\n 'c626eb8c-1774-4158-81b1-6895afc5571a'\n 'c7f08e54-b238-47ec-b714-39ac0ecc7d8d'\n 'c8608366-89e8-4f63-b7f7-eceb4c2d4c1f'\n 'c9148a84-15a6-42fe-9419-bc3743a01e0b'\n 'c939725f-1fc6-4447-808c-b2326bf2476e'\n 'cb98e767-1283-4134-9117-9050254ba0ed'\n 'cf252189-a4b0-4b5f-b6a0-f779372f07fb'\n 'cf8e3a35-a567-4c7a-bb30-63ab3a76d183'\n 'd3b14ec7-91d0-47d7-9fbc-508eb1ca1e9e'\n 'd4d7c6c1-5605-4e94-a878-ce5ef262e0a8'\n 'd5000562-0c3c-4812-bb01-d0657c3ec326'\n 'd6126ad3-5829-4d01-a8e9-da6f3d5d15a7'\n 'd61d8d8e-0c26-441e-9524-f2e2d63121c1'\n 'd79f971e-ba18-477c-b2b6-83bc05f71578'\n 'd956b098-6661-4462-adec-596d34ef43b5'\n 'e3612bc3-60b7-4a7e-9298-e8bce31623cf'\n 'e3980457-eeb0-49d5-b40c-aca85b44bf26'\n 'e44ab3f9-8d75-40f4-a264-020aef6ddfc1'\n 'e60b713b-91e3-4c6a-ae9e-c80ab39a080f'\n 'e68ef18b-f2f3-46a8-8bf2-967af3513d75'\n 'e857fd0d-facf-462d-bfe1-ef4afd2750b0'\n 'ea045113-b18d-4ce5-874c-952ee4ecb62d'\n 'eb667627-ed01-4b5c-808c-c10961f3a4b2'\n 'ec63e384-655e-4af7-9d15-39dd862a8db9'\n 'f079b2ce-7875-415b-99d8-e30edb10bd0e'\n 'f34c1742-2a62-4790-8613-100c05a89128'\n 'f3f8a152-5b5c-4f36-a853-41357e58f0a2'\n 'f5452e4e-9f25-45ec-afaa-4b7952ee3194'\n 'f838c6f9-3d99-4c11-8639-bd8d685f988e'\n 'f8df7489-6c5d-4810-a80a-f820924b5594'\n 'f9101324-dc9b-4f3f-af6c-a0339e1e369b'\n 'f9f1bcb9-0960-485d-93ca-701161fb3251'\n 'fa13a077-7b97-4772-bd5d-175a8c6c8928'\n 'fbeb4e87-df5d-4732-80fc-478141d56c69'\n 'fea2e31b-bf7e-49a5-b3b5-ea4a071767c3'\n 'ffe8509c-949b-4380-855c-f6a81009fac1']",
         "['04f60d35ff6ea1d13757a9caa8f310a5ff40558dc46a4354d4f7f947a6406e1eff7214d775033f9cf7e481d1a14c19a2e3f66f2f2eb9bed2e53b0f1fbaaa3535'\n '05556bd966301e3b323373b9702882e2a86c0b976fa6e7b0b4bd1b00bf44bcc431584050cb9e8d631573e3641db141e8aa67e74f3347792472fd69cbfbaf059a'\n '0635907245d0f984d40739d87dd47cd78a2a92e9c1c3b92ea50b760fcdc161c58ce397a0cc27edeb58818d9a86b972f469e19cb4dd0f76cc4423543574723de9'\n '09961e5117378bc3d19b28fcc24d88ffb07b4d0c4d39f9add1f7aa159cfbc5b935e178b2912624cb6f8b1dc1a612a2c55b51c6275c85ced652065016993be13e'\n '0b52aa9da5315149ef4ac6bd24769720f0624d95d99d7d3de6ef627b89ec95163eca81dbeb5b2f7e43fdb23a689118b01fc85e93a618dbfb2cdd85b3f1b4fc54'\n '1250439644704dac4c6ff9e31ac556df80ef4daa78ad239e4c1b8e4d8269490cff3073490c2d10e368effb88d06b02a500b0fc87cbbb87f27d4c55a3f70db0c2'\n '219495869205f998e32ea3d634dad1445d8c5b92d809c6350ca224d3d550d013373f6a1422f0f9f83de387fc1dae4fccad2012815518fbb3c39320bac45a3f07'\n '25694e6f3685aa44fb7771922ca6e9aaae1942eaff89423f725befcb7d9d14bba7deff6db30ae1f1b171d29354dd0eacbc2569b1a8e8d1c764785affb79c1956'\n '25adcb32d16d760078c7bdd08e20af21f4e82a2ba07d94a8ebb40418d030bda98c7e52fe1db897572e3179bfa18a90faa7361fce2762d8e83cbedb534e622c91'\n '320fe769d1d49556a37b4e78bbf3a12c6cec448eed717b7c33a46703e0544b416003f314ce23c84a9e244001ba34a208adef6264b647795bb96e70038891188f'\n '3321b4418d1fb3a4c69a3c67c5ed235d28e0f7e3ad67e936fbdabb6f9c87ffb67d726dceacec65b7ba6544fe9c3091044b111f2ddbb6a125c78943398be71d95'\n '3aabeda820816b814029235e2366ff5dd8c608a4b00f1ca351e859decf52228377aecc1c4f898c8fef999b5ffbf309db431375a971b8ee8f18427b69b0a75283'\n '4925643c0689bb0f0f32df1bc0a1e6eb3a3f626a073517f5fe6f4b80ddc290dd01d6154ff135504c3246baa4d7bb71127847ff756a25cf3ee924039608f5db70'\n '4951758edd584740d50f935f0aec38d5808994f23b59acf8de80363e89e3685be6c647bfad8993597437a837c841038f5f404212b8c350ac90ecd628513a7332'\n '49665edf51897693b0844b3a64cd6d212eab862eba7d6c188504c10bfb7fd76de8f508e30a375df13e7534c5aab2dbb5724e98213bb2a27d8b71ddad92ab554b'\n '4f1dc0ed244be5949f32724ab47aa26ed080e516c51d4d97ca7beabf7713f4b9be93f542036ef318ee551f43d7fadf64de68ee8a5b1f92b7b696accb0950fe54'\n '51bcb7d3a9c83c15b9eb26f693192e61f78b93d80525278435e77c2e4b498ae2f33c9d273211a0042ac99b27d000ec0bbb939d741d008e2833c4fcd6fa3605f8'\n '5aa2bbaba77452fc40362b5d4b90955c9276871de575fe8bc2ff12bae7aa016c7ddfd5ecffe0d11aaa2dc88b44745035cabf8ebaa7bd95271925f8f3fdfffdc7'\n '6109ec99df78258f4c34acf389a7408005c9f154bc458e260f1f451a23db1ede663b1ee131a92c632e7f205f767d2d399dd936ce3d235869431a0d7bc0edb053'\n '62a6e59e71c3bc834edbf2a8cc652e413e220492e4f05ee9443de1b5961f27401d9a6c1b3fc98b207273b057833632c05a7ccc9a776e851fd4ecd4eae6413b6f'\n '691a1fa3c8c3be6e46bf8db5200549cc25f7ec93436c50b91db81bf285bc2e1814be443cf53e0c04b61cd64c08cb31097bb4f4dedf99d37d5557af9892b0b516'\n '6e0f12be26e0548f4480b15c5561bf59204071ea8b8b4f49f584d0f16d0e587f3d34c0ea5839c2e055a354b72d0139256b216775912005b1d03ecb5b3a0e46b4'\n '74760eb8f7b51c462c9355cdfc6beaeb6e18da73e7bf2facba1db35a58192c72d7d86a5ac400116bcbb297012dc863c305b91797c9b733a7af86b4b62d92e1c2'\n '7f4cded2711a8d178700de0a9b100e2c601739a21e495cefa692ac9df3beef52a7bd53396124433d58950b770d338d0580f58aba6b6f535302a3ab8c822aef27'\n '838b548fc3eccc618bcb341c68c763aaf73545719060d178fc9f7d93cd096b195cc6dfdb626e7e4ab31cd453c3ef1b1a1fd0fe5728c01e57cab3353e35215474'\n '855195eaea6307b4230932864867af9656dc2a0ef12fb3d389db9e2726c56a69665cc7b6641d226cad63633a0144307e7b13dc48294e234bcd3dae83abdb8fc8'\n '87a014234374c8bc75a97357cac08ea7b246c9bab5376dff8f5bfc40b7bc1784cde709b33ae5717edb84b3c8d8f0f721955aca824b73db2e212d98321e3a8ee6'\n '8a95fc1876235c5192bc8472ca2c2bd43b22bf701ebec48a78be9499d2f96a23208a76d476f4f496cdb56ae86ecfc48895c8d4da8a070830bf1cd74a91dabc69'\n '8b224cc9a917cbf0468e087a15dd6405c4c80a63dc8e7a499256017836a5c2cefeadc1396a132bf83bb87847023ef04f446785ef4b80d7a5926fb7ab95a79ef9'\n '9da97067b66d5056d000646d9c1bf37a0041193ee23a70878c125cb60bfbe594c0c44867db517eba66b58f7517812ba2e6505d69c13d09a7b0bbbfcd2afddef5'\n '9e0705f640b47ed821ec0df09266b61f1a061d6c5f23e56c54130363a1ba321d3412bfa734a14ae11ab0120d9fe2c54ab055925eac807357d4c303972373d507'\n 'a07104ce2a611e98a82020dcbbfbb4aea57898887e03e1609f19470f5ec77beb75a87309c6535c25936e68b1eca1e1774826a0990bbf261a58876292d297e47c'\n 'a32d6718bf7f4bec8451b6f378ee3aa9f771f6995b0f009afae6939e93bca90eceeac37c8ef7c837f4afd09b69ee352de74e7ad98b7963f7d25dd32178f85edf'\n 'a8c6cedb079038b8f98054688a2731a435f517c61c1e937976e407553a06e1814fb791f0d569340f81c5dfd320906a485803a6284189ae05ec37e2c20bee6d64'\n 'b29b761dad15f5c9971d02a0089892bd8ae14eb6daeaeec12bd70d2970797f814dec67b0387664d48a0fdf4ecad9af479bdd9c59e2afed0d2f7810811fd77eaf'\n 'b65bb9f86e8bf83b6a5c7e814c2bfb7d0d65bc4135b17f2ab6ec4cc0c54c5bd50ee6c51f38ab02b7e455a9f66627060979b43788a9b217479e52d25971882547'\n 'b8137b3b83c4aa9d53a360c04451a69ff970de9e15b3f0cc705fb0b7c940cc24660003fd95867942d41af36240f39e32163074752ad8f05b62e984dbffcb99bc'\n 'b82db259aefe5c21bcecff8592c614389ff67316d5dfd6aaa0e045b285fdb3ce517f70cd199d60dd6879cb573a7dcd64dddf463506ed454836c07d6c7699d61f'\n 'b8ac64bc74ee127e1c3beeec0279994a7d145c2301875b6e651e9bbdeec9c03ad2df60078ea09ce71e66d853086bece486a2127ac595a260635256128b9db5bf'\n 'c7e8621e3465881a1f853d8822aa6295eeec5149e76473b6f81ee885db525fa60617d678307bee564a02d84afc1e3997e0c0753e393c883ff4432cec1c40c386'\n 'c813e40b1334aeea56720adbe0e99eb140fc2b49da8cb1e4345b21180b9f76b462ec23ddb9d0f418f1c5afb50a23ccf0fcf03398c0ba916d9804a29883856cc6'\n 'c85c2a12f504753aed2b002370ad49aa602eecee763552880a6ecf9618be9f3b0a558fe365560233104558b3930517bec23bb70d10ed07470bf10d845d53ce97'\n 'ceded977149be1f47c333580fb0158ebb567e06ea8f66fe5991d2311fd2c00baf2770ab5d208911f80513591d3af57a6583dfda847686030a92272567df7c95a'\n 'd0b7009f3c7676d697fd50965de1f33dbdfd919a90e15ea8b72ecab06d8c361dd2ae274668ee338f2b07bd329bc12a69598a0b2d9ceb7c067052cc51a869bcc2'\n 'd444223275186d61b03551d7544d195c6780fe111381d6a1e01616d78e21ab9bdf5a4d4e22f120aa22a6b599e8f2c46d907e9e95317ba7dd7f619bb746c04713'\n 'd6821ea2dbd2470a4c3b8c9c9b5dc3d3b8ed6c4ac107b2a07afb7ec8ab3093bd061ac3c5ec7f035d88b614f21ad2164fa1a30bb70e17282852cca4a034a6c44d'\n 'da5b98d5d131e88a13bc6e542b796b5686e7c70e4416f9de696e3223138f1d898c8b067e5b307f43ff66952e7e0cd85fd9b54e6498764030a7e0f8a8ed543a24'\n 'dc1d18ef85ca582714aa0a57b840c790e7eb76a5fba54ebf292cd674e73fdb8ef3152358df338b6d56804e022d8fb5f32f443e779068b4cd36ec0864ca671baf'\n 'e0cad1df4e299eda26ccd201f1199acb025e83846c50c218f2eba3a904a1b3f31688db061121300101eaf37fc57938f78c8f9e7407f775b19776aebfaedd85d7'\n 'e2154ee781a252f765a2d4e7557b826915f29048130e4445cdb47192a42d8b4f535338311c51a75bb6a023053b0f817f87fc4ce7596f8576d83d96f3d05ba8bb'\n 'f0d07d3eccf29acb79f8b9f0161ab60626acefa58e6a9429ea14f39ab4baddd52cb55bef538086685877f5ea4f3fb3af12cf18f5b45e070854f748ea7b28d58b'\n 'fd14f5db10e3125fc8291e16ddeb6ab3565e93b70ff6d6ee5eb19430ebec1c820fb70c54e59027b5c142c719c5f42db8c9f5b428cc7af8286d4d84069504ed1f'\n 'ffeb2cbe5f2ed9c2da1dd2cabce108ec3c22a735ed8b3fb4dd54db597586b242877adb686f3be539c7fceab79e07060954bebdb86d9aac285cb580c7f1593675']",
         "2025-03-28",
         "131"
        ],
        [
         "1",
         "5cfb4792-a54c-4dbf-a88a-a7a569a2f102",
         "1",
         "0",
         "-1",
         "[14 15 16]",
         "Community 1",
         "['fb50f1da-c96e-4a84-9cf1-084665ff6b45'\n '6d0fee65-6a75-484b-9800-afa02154e788'\n '386aee0c-9691-4f04-a8b9-2c081e6b476f'\n '5061ca10-5dd0-4624-a24d-086976c7ea06'\n 'd0aee5c0-32c4-4e3a-9285-2c7005168142'\n 'ca1efdba-d314-45ab-a186-b82aeca1d0e5'\n 'a202ffc5-23f3-4a61-93f6-e283d5e9d52f'\n '9f67844a-de66-4452-8d2e-8dc0439364d5'\n '1267b2f1-4ad2-4d42-80fd-5c9da8b259fe'\n '99a8735a-2268-47e6-8235-8d3e1f842c87'\n 'b2e8bc2f-b936-49e6-8c7a-43e54d07be70'\n '94c6bbee-659a-4fc8-9bde-78a0f883ef6a'\n 'ec9ed4d2-2f70-4bb8-bee0-0a3f6c9966dd'\n 'bd923a6f-c502-4d0c-b202-a176e8348a4b'\n 'dfca7b8a-d6e4-46a5-95b0-1a46e2bcdcf9'\n 'a828d193-4e3d-42db-a0d3-62df80df9c68'\n '83a14a77-35f3-492f-9524-2a573f7bef39'\n '427f256b-f476-4851-a87a-55aa46896666'\n '6304a563-5673-4929-a93e-a2ecd9a02520'\n '869ae4a8-a65b-4b7b-86c5-c0fe22451b6f'\n '4ee131c8-86f6-463e-961a-6cbebb7cd9b3'\n '3a919c7c-83c4-456e-bfb2-ada632e67037'\n '791da9d2-da8e-4de3-b72f-046210c672fe'\n '78908386-3b81-4a54-91e5-f35164bf39d3'\n 'd74e46f5-6655-42fa-ba94-cb03c3a92fa7'\n 'b43b4bdc-88dd-4d5e-a81c-401db07c581c'\n 'aa7120a2-8beb-4c87-a12f-6bf31ec61ce1'\n '142b9ae2-dec3-4397-a388-1ce66a6b1342'\n 'd02a0b4e-26fe-42bf-93dd-d0b7f7ff33e6'\n '298c76bc-0c2a-4d2f-a0db-acbbef89d6be'\n 'b7d5d01c-5b60-431c-80f4-e0ecfc9b922f'\n '91bf010a-b108-4454-af0b-8b65e043c476'\n 'a82e02bd-e50c-4914-b9b8-5842e7b07e6c'\n '001b47ce-d979-4e17-83d5-b77f49ec2bc2'\n '0e7c22fd-6eab-46a9-bb04-be6b03dfd657'\n '010037ea-643c-4c4c-a917-e6530249cb0e'\n '17b18e28-daaf-4725-ad84-814debcd46f3'\n '867f3bae-2de6-4c19-8bbf-983c88e87ba7'\n '888142f0-4a06-403f-9905-ed175880d41a'\n '91922abd-e562-458d-9e5d-477a27fd8bdc'\n 'b905d80e-0183-46df-8449-f5e2d874c95e'\n '76619771-38e2-46a0-a318-81ee368938e7'\n 'e1de084e-b7ba-4184-a82c-f9d051583253'\n '02eb4c1e-99ba-4cfe-9ac1-1fcca1942bbd'\n 'c7b4b4d9-2dd4-4d5c-ae70-100bb9499c32'\n '7d1e3e35-e78a-45fb-a4d9-b7df2fa344f1'\n 'e8037f05-f44b-463f-877e-628db8a262c2'\n 'c73483ef-3856-4e2d-b70c-3ba78116f3bb'\n '2dbc1d48-2349-4403-8f04-76c4a4165e3d'\n '03a787fe-1a0c-4be9-aab5-49361c8dca2d'\n '47d5c7b6-b4d7-4c0b-86e4-d40bd8d425c8'\n 'c74aa429-de86-405a-8599-2ea78fd158d0'\n 'c12b90bf-2cc1-4bdb-bf33-3bc2c4a53469'\n '38626535-4ae4-4034-bddc-9174455bf817'\n '0eb2fe09-cee8-4143-98b4-d7318f3ef139'\n 'e53b83d6-9b51-448f-b51d-5bfe21f4f0ea'\n 'ba0726ac-1bb6-4337-9442-7772efd69738'\n '859eb1d4-67a5-4b5e-b4ea-6cb169282902'\n 'bb179169-3e56-4f65-a10d-d7904809819a'\n '2aad08a3-ded0-4ceb-b9a7-23c1deca7ee4'\n 'e7b5f97a-11ba-41e7-8834-04c15e2ba031'\n 'ae826d5c-b0b0-4ffd-bce8-4df6bab48bbb'\n '38fab6f0-c494-436b-9f33-5c1b297762a0'\n '491c9748-9731-4434-834e-5e7dd783e710'\n '3a83e460-e993-4a4e-9e18-1aa45e03052c'\n '070d6d48-9929-4911-954e-b9cab1347955']",
         "['0179caa7-01ac-4af2-9557-749d52f78031'\n '08035120-7bc9-450b-b9cc-1fa8b5de1752'\n '12d7efd0-7129-4727-b91c-e6aa9d51bdc6'\n '147661ee-0875-4593-949e-39fad9964542'\n '14da7253-2145-41d2-8ad8-1a5a8ab36593'\n '1dacf283-c20f-4caa-ac67-a32f5bef6804'\n '281bf4fa-21ff-4612-95ae-e273c5d78112'\n '2d5d1711-1cd8-4a2f-a1c6-a4bca96f4bec'\n '30211550-0105-443c-8fcc-30c25f6f2549'\n '31a23020-dfea-4b4c-a61e-5ff3e9568165'\n '335f2927-3771-47dc-b2c5-9105ea55c304'\n '36af8aba-acdd-41d1-82cf-19ab49634d83'\n '375d59ea-7589-41cc-9b0b-0568d9a555d6'\n '38396806-0967-4fbc-adc3-90969ab882aa'\n '3997c3b6-9b83-4684-b559-b12fb30af2fe'\n '44d7dc98-bf50-47c8-858f-c22304a79927'\n '456f8336-fc0c-4804-b72a-43556454870d'\n '48c26af7-c0d0-4c97-8b92-472ff1c57d92'\n '4e2863a6-23a2-403f-bd3a-7779f8d9a722'\n '4f22c30e-7249-497a-a337-ea7627dd92c2'\n '4fd495fb-4cf3-4508-9bff-9383aaa7cfb3'\n '53d796e3-576d-47d4-9d4f-b02a33ffab8b'\n '5444f073-4e5a-4e0f-bafb-7f97f53ecdeb'\n '5833b6c5-f1f6-4ec4-b583-bffd8fb0c556'\n '59e3d8a5-1d74-492a-b477-2a5fab4e732a'\n '5cd8a33b-47e6-450d-8c6d-346d24437dd7'\n '5fabfa15-1d71-4c14-984a-8edb70669ee5'\n '5ff7ad3f-21b1-47a9-8121-5b21da6b4b97'\n '672ddc6e-b0ce-455c-aab8-cf9ab7f3f113'\n '6ddc94d3-5fb5-414c-b778-b1f528c098dc'\n '714d25e7-9e3d-47c1-b079-19bb2e006060'\n '7161517a-3cfe-4909-b92d-8be0654b5524'\n '79c46bd4-9e8d-4fa4-8464-4643b05eea12'\n '7a757053-fc14-4553-8c40-35ade103690e'\n '7d01e961-d3b8-4ace-9c0a-92317635a0dc'\n '80437527-703e-4615-b273-c13877f74d6e'\n '85a4e60a-6085-4751-82c7-38710b2370c6'\n '8de185e0-1de8-4d80-90e6-bb835b0da242'\n '8f1722a0-696e-4a2e-9a09-f86aa5bc2443'\n '975589dc-3f8a-409b-b118-5819cba86f3f'\n '985f9db4-ded6-4727-8688-033d9563be25'\n '992f2b78-033b-49c8-952d-e354d5bd1073'\n 'a61772f7-43d8-416c-8968-a6e43e2a3511'\n 'a9fe7548-9679-4b45-8bc0-354b4f3ca3a0'\n 'b12ecf95-19dc-4477-9216-bfc962bc8527'\n 'b144b7c5-642f-435e-810c-8aaa46c8d211'\n 'c19a42e7-937e-4807-b130-7a96edef553c'\n 'c4fe64ce-39c1-4e6e-8ed3-9d025585be9a'\n 'c765dbee-8895-4359-a18e-3da474fb33a1'\n 'c91ed414-dfdc-4a45-a0c7-86cc64805978'\n 'cc843ca7-e05f-4adf-996c-53c6c6b1a716'\n 'd6d8dd43-8811-4eaa-b66c-596cf80a75f9'\n 'd80fb3b2-30ad-48c2-bf59-bf08da3f3eb0'\n 'db7f896e-819f-490a-851e-3a57f535e134'\n 'e251250b-72d7-475e-94e4-07e3afdd6dd7'\n 'e44d989f-1d23-4237-9f93-e9893c405164'\n 'e6842926-8a68-4733-9e89-bff8663a43fc'\n 'ea368170-c663-41fe-a113-197450ce8849'\n 'edf3cbba-3f64-4655-b382-a10664e494d7'\n 'f0602da1-3b02-43f9-9fdc-679dee2ea383'\n 'f5826952-ec3f-4588-a1db-66e7e9adb690'\n 'f8a1efa6-a182-4b92-89be-649654082520'\n 'fcbe28b7-ebe1-463f-a721-057ab4ff66fa'\n 'fe782b9d-8907-4528-81cd-e5850c06eb1e'\n 'ff9e7b83-4c80-4c08-9315-f2543a18ed61']",
         "['0432d276c182aa29456c067d9ae892765781722497b33da21e997a7517c26b6297d563694d7b94d0b46258748b7794c66323d13422a62a9b8dc2a4f8336e1e22'\n '1063789c5741987e85264b8eb0a4c6627f973cebd1129cb747e47b954d6b8a95cd7a5b9b16ded137fdec21b0d1123b9145fad0bd96ce4e84b785d6d88a2ba927'\n '2529b6327db261f875da2389419dda652afd3557bba30e19f5c5f2bfc25ccb7c5b0148243e760190a295194e0d310359bccf73686f8151ed018dc862d6384d9a'\n '2976b5fd50d3be9b3619812bbaf7f275c72facfa05adc7d8298a5f80972c91ad24abf4f319f9bfac9e94a1322a7f6cbe8b29210652d1daac170875687b3f9b2f'\n '30bff4c4693e95e9be6efe3e3a2903894c6db5df3740e1bb072c81e00c18095763cd1bd5355aeeefbfe6b4e784e708caba4003c960c037c1de96c03f2be42f30'\n '33dd8afb2455cb4946ba5fe4dd694ec03736f3079ad162d946b96c17fb98f6e95654c88dd4cb0ed0e4d38bd2ecf2310c252573eeae58dcbdb539479e6611b21a'\n '42185d877cbb93ae4233aed546531c964c3cbc0b07188c9f0c77e8d92b30cedeeb20754a646e33e97df871af581b163dfca09d5799d24fba86cc8e04aec4bef3'\n '481461d59dc4e4d2c260956068b6fec5179c76dee24d02c71b6a927dbb3bb212182d4924d47c25b5db04aa851547144edf92b4582f28c5706e1ff5ba89e9bb1c'\n '4925643c0689bb0f0f32df1bc0a1e6eb3a3f626a073517f5fe6f4b80ddc290dd01d6154ff135504c3246baa4d7bb71127847ff756a25cf3ee924039608f5db70'\n '4f1dc0ed244be5949f32724ab47aa26ed080e516c51d4d97ca7beabf7713f4b9be93f542036ef318ee551f43d7fadf64de68ee8a5b1f92b7b696accb0950fe54'\n '5aa2bbaba77452fc40362b5d4b90955c9276871de575fe8bc2ff12bae7aa016c7ddfd5ecffe0d11aaa2dc88b44745035cabf8ebaa7bd95271925f8f3fdfffdc7'\n '5c883e5ddec8beb92dc97b16caca9ad8e04be15891c5387935ff88e4f5d3cd61989d7dc0388cab5f5e571b9a2b9b143e2cd3ec672dca00c8177542bb66543583'\n '6be3ff9146d02b981e476a3b9c09804182ac9a924cf2ba4f003d0c8098826dc7d89074912251f5b681295b56a55f574a4dddd239d0df6624ae858eb95180e540'\n '6e9ed00bf9d6111315a7ebc30a0d3d5b36ee005c43cc295cdbcd46b8c05ae921ebffad8b6bafe7885115008f09eac30ffacf9029bf89cc9af8557b9822ad56dd'\n '6f4bd9d8d0e7df5b7307b973b4ef2e0299f6e605f149415372c4c723ef8466106a58693d7219b2bf4e389a0b9cdac861bfbe896ed00dc38a8580640e98e79e83'\n '7097f8465eaafef0584123230edcc8e239d98eeb21e70e7231608570f4531d0d309b7ff55ca9b56332832941cc3d0bf44659e19be7c129e803a9984e114ad6d2'\n '74760eb8f7b51c462c9355cdfc6beaeb6e18da73e7bf2facba1db35a58192c72d7d86a5ac400116bcbb297012dc863c305b91797c9b733a7af86b4b62d92e1c2'\n '7a69656345d2b22d40a6635552c1c270f2a5013327ff815130f227329487a4276bae37dd34e99896e7871e5925987ad5df52ec08700f7a10352fcb69fcbce95c'\n '7a9b112fba4fc0a6bc7f050a795413eb1aa543be9ba792ab1d87ab1222e7312194f3942f70e1e2e358bba48a0d514a7dfd1c16227f148ca77fcad83a6c91feca'\n '7aa0a1292cc222584325e9115fad205a1ca34e0f9a2bbc83d999f2d2d8d97a22e6e824991efaee172cb74bebfd38c755fe30aa0f79ae0c00b003366eda071158'\n '869ba0c3f3a8d6a41b4c2724750306b29b9bc8f1efa4bdb68412ac12360db20156a61b80ff411c5379daec3c3fc8d99625e2621b4e1bdd4dc4f7e562603b8f20'\n '87a014234374c8bc75a97357cac08ea7b246c9bab5376dff8f5bfc40b7bc1784cde709b33ae5717edb84b3c8d8f0f721955aca824b73db2e212d98321e3a8ee6'\n '961a0e7e1faf121c9c13eb259eab49c2b761c1b38db5d129638dbcc12a32347bb27ddb43d0a97126d8892f5e75127298a03b0fe1dcb78e090f69db7d69779045'\n 'b3def3828191f42ce45683dafe775c154bfe8b00c7f4084ea0d750868aa829be013fc7240bec3ab71f05c2f8f6633d1369a616863d617fb28b6cdb7aeac12c1f'\n 'b6de6f6a9fcee03d082a7e72c3dadd1982707155a73484d7cc0a5846d6cf9b2f78916c17ed1729314bf17f6799be45fcc548a1637774854753948a5015bcde4d'\n 'c7db7d0e1422bbee44f750fb1470a5610947a84ac179d7e8e908da593e9135c61659ae539ebd479e5cc05fb38662db8d924140fcf93048440cb565cc633d6dd4'\n 'cb6ff6db7b62e9c78c99e98e108a458686c5fccc0866687b49d0635d34f6a8cc5c9275d8c3552cbdd1494f1299879d16a2a911d7fb98ec2d4cf0b1a1c539ef5d'\n 'cdfa8ed7c1aa1ac3074c0157cfde45a64b74cc706421112902031fa0c5f0290d33869cab043fac100df86e83e33fe3a9ac583632bd3666fcd3df8ee9c6fb8336'\n 'd14e070d242a92035c5ddf01cefaa35d71b87e705c95f521ddbf1fe4178d7cc3ab4b7cbcf164471208b3d1b3c14578f47a34ca00ef3ba4c5a5b1367c3a9a2945'\n 'd65ad7d875af9ce5f4279df6e2420d3c61ec81e70910b8b13119af1749c2fab0ad3e5583d00522b5532c3de49c163085e26f0e98b56c0258aaddd3d8e6d2042c'\n 'e135030eb88247d618e17feb476f9377b57cabe8d4ea51a9c77a0f1dacf4bd0342f7d475a5663590624e83f5162ffb168f9f360844a7e0d26c5ecf666cd50a63'\n 'e2154ee781a252f765a2d4e7557b826915f29048130e4445cdb47192a42d8b4f535338311c51a75bb6a023053b0f817f87fc4ce7596f8576d83d96f3d05ba8bb'\n 'eddd33dac7eaeeb99d577cf6f5e5c38667179afe8d10da82f091663ac8543d6bf58b690a57153f8868be66a8084faf0120e2ed814cde0d85615ce5c406ec1937'\n 'f0aa4da8a6af89ece2365c4fd56ca43aaac1cc8e3904b7d084e2942e29d59e115fc6624d330f651fd6b7656d9a5355ef0a8fa3abd4d97e09ba40de8e0c129b9c'\n 'f0f3fe69d85101aa9a3bd0ab3eb6cfddda1f314d5f1a412e60dae8ed7b11da4b8a99c260ef7ce0af8b40d7ff46908d227c5fd8949cec12673609ab034f400a6d'\n 'fd14f5db10e3125fc8291e16ddeb6ab3565e93b70ff6d6ee5eb19430ebec1c820fb70c54e59027b5c142c719c5f42db8c9f5b428cc7af8286d4d84069504ed1f']",
         "2025-03-28",
         "66"
        ]
       ],
       "shape": {
        "columns": 11,
        "rows": 2
       }
      },
      "text/html": [
       "<div>\n",
       "<style scoped>\n",
       "    .dataframe tbody tr th:only-of-type {\n",
       "        vertical-align: middle;\n",
       "    }\n",
       "\n",
       "    .dataframe tbody tr th {\n",
       "        vertical-align: top;\n",
       "    }\n",
       "\n",
       "    .dataframe thead th {\n",
       "        text-align: right;\n",
       "    }\n",
       "</style>\n",
       "<table border=\"1\" class=\"dataframe\">\n",
       "  <thead>\n",
       "    <tr style=\"text-align: right;\">\n",
       "      <th></th>\n",
       "      <th>id</th>\n",
       "      <th>community</th>\n",
       "      <th>level</th>\n",
       "      <th>parent</th>\n",
       "      <th>children</th>\n",
       "      <th>title</th>\n",
       "      <th>entity_ids</th>\n",
       "      <th>relationship_ids</th>\n",
       "      <th>text_unit_ids</th>\n",
       "      <th>period</th>\n",
       "      <th>size</th>\n",
       "    </tr>\n",
       "  </thead>\n",
       "  <tbody>\n",
       "    <tr>\n",
       "      <th>0</th>\n",
       "      <td>49481fe5-d264-48b4-aadf-825ffadfa4dc</td>\n",
       "      <td>0</td>\n",
       "      <td>0</td>\n",
       "      <td>-1</td>\n",
       "      <td>[12, 13]</td>\n",
       "      <td>Community 0</td>\n",
       "      <td>[bb886006-70c3-4aec-9693-9f34e1e0fb40, 0397ff7...</td>\n",
       "      <td>[002dd161-6def-4b65-b5d8-9e724d1dbc06, 00d323b...</td>\n",
       "      <td>[04f60d35ff6ea1d13757a9caa8f310a5ff40558dc46a4...</td>\n",
       "      <td>2025-03-28</td>\n",
       "      <td>131</td>\n",
       "    </tr>\n",
       "    <tr>\n",
       "      <th>1</th>\n",
       "      <td>5cfb4792-a54c-4dbf-a88a-a7a569a2f102</td>\n",
       "      <td>1</td>\n",
       "      <td>0</td>\n",
       "      <td>-1</td>\n",
       "      <td>[14, 15, 16]</td>\n",
       "      <td>Community 1</td>\n",
       "      <td>[fb50f1da-c96e-4a84-9cf1-084665ff6b45, 6d0fee6...</td>\n",
       "      <td>[0179caa7-01ac-4af2-9557-749d52f78031, 0803512...</td>\n",
       "      <td>[0432d276c182aa29456c067d9ae892765781722497b33...</td>\n",
       "      <td>2025-03-28</td>\n",
       "      <td>66</td>\n",
       "    </tr>\n",
       "  </tbody>\n",
       "</table>\n",
       "</div>"
      ],
      "text/plain": [
       "                                     id  community  level  parent  \\\n",
       "0  49481fe5-d264-48b4-aadf-825ffadfa4dc          0      0      -1   \n",
       "1  5cfb4792-a54c-4dbf-a88a-a7a569a2f102          1      0      -1   \n",
       "\n",
       "       children        title  \\\n",
       "0      [12, 13]  Community 0   \n",
       "1  [14, 15, 16]  Community 1   \n",
       "\n",
       "                                          entity_ids  \\\n",
       "0  [bb886006-70c3-4aec-9693-9f34e1e0fb40, 0397ff7...   \n",
       "1  [fb50f1da-c96e-4a84-9cf1-084665ff6b45, 6d0fee6...   \n",
       "\n",
       "                                    relationship_ids  \\\n",
       "0  [002dd161-6def-4b65-b5d8-9e724d1dbc06, 00d323b...   \n",
       "1  [0179caa7-01ac-4af2-9557-749d52f78031, 0803512...   \n",
       "\n",
       "                                       text_unit_ids      period  size  \n",
       "0  [04f60d35ff6ea1d13757a9caa8f310a5ff40558dc46a4...  2025-03-28   131  \n",
       "1  [0432d276c182aa29456c067d9ae892765781722497b33...  2025-03-28    66  "
      ]
     },
     "execution_count": 14,
     "metadata": {},
     "output_type": "execute_result"
    }
   ],
   "source": [
    "community_df = pd.read_parquet(f'{GRAPHRAG_FOLDER}/communities.parquet', \n",
    "                             columns=[\"id\", \"community\", \"level\", \"parent\", \"children\",\n",
    "                                     \"title\", \"entity_ids\", \"relationship_ids\", \n",
    "                                     \"text_unit_ids\", \"period\", \"size\"])\n",
    "\n",
    "community_df.head(2)"
   ]
  },
  {
   "cell_type": "code",
   "execution_count": 15,
   "id": "3e064234-5fce-448e-8bb4-ab2f35699049",
   "metadata": {},
   "outputs": [
    {
     "name": "stdout",
     "output_type": "stream",
     "text": [
      "{'_contains_updates': True, 'labels_added': 41, 'relationships_created': 681, 'nodes_created': 41, 'properties_set': 47698}\n",
      "41 rows in 4.619127035140991 s.\n"
     ]
    },
    {
     "data": {
      "text/plain": [
       "41"
      ]
     },
     "execution_count": 15,
     "metadata": {},
     "output_type": "execute_result"
    }
   ],
   "source": [
    "community_statement = \"\"\"\n",
    "MERGE (c:__Community__ {id:value.id})\n",
    "SET c.community = coalesce(value.community, value.id),\n",
    "    c += value {.level, .title, .parent, .children, .period, .size},\n",
    "    c.entity_ids = value.entity_ids,\n",
    "    c.relationship_ids = value.relationship_ids,\n",
    "    c.text_unit_ids = value.text_unit_ids\n",
    "WITH c, value\n",
    "UNWIND value.entity_ids as entity_id\n",
    "MATCH (e:__Entity__ {id:entity_id})\n",
    "MERGE (e)-[:IN_COMMUNITY]->(c)\n",
    "WITH c, value\n",
    "UNWIND value.relationship_ids as rel_id\n",
    "MATCH ()-[r:RELATED {id:rel_id}]->()\n",
    "SET r.community_ids = CASE \n",
    "  WHEN r.community_ids IS NULL THEN [c.id] \n",
    "  WHEN NOT c.id IN r.community_ids THEN r.community_ids + c.id \n",
    "  ELSE r.community_ids\n",
    "END\n",
    "\"\"\"\n",
    "\n",
    "batched_import(community_statement, community_df)"
   ]
  },
  {
   "cell_type": "markdown",
   "id": "e27325cd-6ba8-43b4-8781-f9a81af5e242",
   "metadata": {},
   "source": [
    "### Importing Community Reports\n",
    "Fo the community reports we create nodes for each communitiy set the id, community, level, title, summary, rank, and rank_explanation and connect them to the entities they are about. For the findings we create the findings in context of the communities."
   ]
  },
  {
   "cell_type": "code",
   "execution_count": 16,
   "id": "fc9f6606-0cce-4f28-9d88-eaf894d8110b",
   "metadata": {},
   "outputs": [
    {
     "data": {
      "application/vnd.microsoft.datawrangler.viewer.v0+json": {
       "columns": [
        {
         "name": "index",
         "rawType": "int64",
         "type": "integer"
        },
        {
         "name": "id",
         "rawType": "object",
         "type": "string"
        },
        {
         "name": "human_readable_id",
         "rawType": "int64",
         "type": "integer"
        },
        {
         "name": "community",
         "rawType": "int64",
         "type": "integer"
        },
        {
         "name": "level",
         "rawType": "int64",
         "type": "integer"
        },
        {
         "name": "parent",
         "rawType": "int64",
         "type": "integer"
        },
        {
         "name": "children",
         "rawType": "object",
         "type": "unknown"
        },
        {
         "name": "title",
         "rawType": "object",
         "type": "string"
        },
        {
         "name": "summary",
         "rawType": "object",
         "type": "string"
        },
        {
         "name": "full_content",
         "rawType": "object",
         "type": "string"
        },
        {
         "name": "rank",
         "rawType": "float64",
         "type": "float"
        },
        {
         "name": "rating_explanation",
         "rawType": "object",
         "type": "string"
        },
        {
         "name": "findings",
         "rawType": "object",
         "type": "unknown"
        },
        {
         "name": "period",
         "rawType": "object",
         "type": "string"
        },
        {
         "name": "size",
         "rawType": "int64",
         "type": "integer"
        }
       ],
       "conversionMethod": "pd.DataFrame",
       "ref": "aa5f562e-0de6-4f66-87b5-874ea545f940",
       "rows": [
        [
         "0",
         "1603b040040d4ab2966d690bf7bf47fa",
         "12",
         "12",
         "1",
         "0",
         "[]",
         "Jon's Emotional Landscape and Public Persona",
         "The community centers around Jon, a complex character navigating his public image as an actor while grappling with personal trauma and emotional turmoil. Key entities include his relationships, his home environment, and various cultural references that shape his identity. The interconnectedness of these elements highlights the challenges Jon faces in reconciling his past with his present.",
         "# Jon's Emotional Landscape and Public Persona\n\nThe community centers around Jon, a complex character navigating his public image as an actor while grappling with personal trauma and emotional turmoil. Key entities include his relationships, his home environment, and various cultural references that shape his identity. The interconnectedness of these elements highlights the challenges Jon faces in reconciling his past with his present.\n\n## Jon's struggle with public perception\n\nJon is depicted as an actor who is deeply affected by his public image, which is shaped by his contract with an advertising agency and his social media presence. His need to maintain a certain persona adds pressure to his emotional state, as he grapples with feelings of guilt and paranoia stemming from past experiences. This duality of public and private life creates a complex narrative where Jon's actions are constantly scrutinized, impacting his mental health and relationships. [Data: Entities (1, 3, 4, 5); Relationships (1, 3, 4, 5)]\n\n## The significance of Jon's home environment\n\nJon's home serves as a crucial backdrop for his emotional journey, reflecting both comfort and unease. The terrace, in particular, is a significant space where Jon experiences moments of introspection and confrontation with his past. The discovery of unsettling elements, such as a dead rat, heightens his anxiety and symbolizes the chaos he feels in his life. This environment plays a pivotal role in shaping Jon's identity and emotional state, illustrating the connection between physical space and psychological well-being. [Data: Entities (22, 31, 52); Relationships (32, 54)]\n\n## Cultural references shaping Jon's identity\n\nJon's references to cultural elements, such as the opera 'La Traviata' and films by directors like Alfred Hitchcock and Steven Spielberg, indicate his awareness of the arts and their influence on his life. These references serve as a means for Jon to navigate his emotional landscape, providing a framework for understanding his experiences and aspirations. They also highlight the contrast between his public persona and private struggles, enriching the narrative of his character development. [Data: Entities (2, 169, 171, 183); Relationships (2, 171, 185)]\n\n## Jon's relationships and their impact\n\nJon's interactions with various characters, including his friend Pili and the mysterious woman, reveal the complexities of his social dynamics. These relationships are marked by a blend of support and tension, as Jon seeks connection while also grappling with feelings of isolation. The influence of these relationships on Jon's emotional state underscores the importance of social support in navigating personal challenges, highlighting the interplay between individual struggles and communal ties. [Data: Entities (118, 124, 215); Relationships (143, 151, 215)]\n\n## The role of societal issues in Jon's narrative\n\nJon's experiences are intertwined with broader societal issues, such as gender-based violence and crime, which are reflected in the media he consumes and the conversations he engages in. These themes add depth to his character, illustrating how external societal pressures can exacerbate personal struggles. Jon's awareness of these issues influences his actions and decisions, highlighting the interconnectedness of individual and societal narratives. [Data: Entities (18, 19); Relationships (17, 18)]",
         "7.5",
         "The impact severity rating is high due to Jon's emotional struggles and the potential for public scrutiny, which could lead to significant personal and societal implications.",
         "[{'explanation': \"Jon is depicted as an actor who is deeply affected by his public image, which is shaped by his contract with an advertising agency and his social media presence. His need to maintain a certain persona adds pressure to his emotional state, as he grapples with feelings of guilt and paranoia stemming from past experiences. This duality of public and private life creates a complex narrative where Jon's actions are constantly scrutinized, impacting his mental health and relationships. [Data: Entities (1, 3, 4, 5); Relationships (1, 3, 4, 5)]\", 'summary': \"Jon's struggle with public perception\"}\n {'explanation': \"Jon's home serves as a crucial backdrop for his emotional journey, reflecting both comfort and unease. The terrace, in particular, is a significant space where Jon experiences moments of introspection and confrontation with his past. The discovery of unsettling elements, such as a dead rat, heightens his anxiety and symbolizes the chaos he feels in his life. This environment plays a pivotal role in shaping Jon's identity and emotional state, illustrating the connection between physical space and psychological well-being. [Data: Entities (22, 31, 52); Relationships (32, 54)]\", 'summary': \"The significance of Jon's home environment\"}\n {'explanation': \"Jon's references to cultural elements, such as the opera 'La Traviata' and films by directors like Alfred Hitchcock and Steven Spielberg, indicate his awareness of the arts and their influence on his life. These references serve as a means for Jon to navigate his emotional landscape, providing a framework for understanding his experiences and aspirations. They also highlight the contrast between his public persona and private struggles, enriching the narrative of his character development. [Data: Entities (2, 169, 171, 183); Relationships (2, 171, 185)]\", 'summary': \"Cultural references shaping Jon's identity\"}\n {'explanation': \"Jon's interactions with various characters, including his friend Pili and the mysterious woman, reveal the complexities of his social dynamics. These relationships are marked by a blend of support and tension, as Jon seeks connection while also grappling with feelings of isolation. The influence of these relationships on Jon's emotional state underscores the importance of social support in navigating personal challenges, highlighting the interplay between individual struggles and communal ties. [Data: Entities (118, 124, 215); Relationships (143, 151, 215)]\", 'summary': \"Jon's relationships and their impact\"}\n {'explanation': \"Jon's experiences are intertwined with broader societal issues, such as gender-based violence and crime, which are reflected in the media he consumes and the conversations he engages in. These themes add depth to his character, illustrating how external societal pressures can exacerbate personal struggles. Jon's awareness of these issues influences his actions and decisions, highlighting the interconnectedness of individual and societal narratives. [Data: Entities (18, 19); Relationships (17, 18)]\", 'summary': \"The role of societal issues in Jon's narrative\"}]",
         "2025-03-28",
         "129"
        ],
        [
         "1",
         "f05099adb1ed4603832f1957880c415a",
         "13",
         "13",
         "1",
         "0",
         "[]",
         "Village and Night: A Tension-Filled Community",
         "The community is centered around the Village and the Night, which serve as significant backdrops for the experiences of Laura and Jon. The relationship between these entities highlights the emotional turmoil and tension that permeate their interactions, particularly during the night when critical events unfold.",
         "# Village and Night: A Tension-Filled Community\n\nThe community is centered around the Village and the Night, which serve as significant backdrops for the experiences of Laura and Jon. The relationship between these entities highlights the emotional turmoil and tension that permeate their interactions, particularly during the night when critical events unfold.\n\n## The Village as a Complex Emotional Setting\n\nThe Village serves as a significant backdrop for both Laura and Jon, embodying a complex blend of nostalgia and emotional turmoil. For Laura, it is intertwined with her childhood memories and the site of a pivotal accident that continues to affect her emotionally. This connection to the past creates a layered emotional landscape that influences her actions and decisions. For Jon, the picturesque houses of the village, which gradually illuminate as night descends, create a serene atmosphere that contrasts with the underlying tension of the narrative. The duality of the village as both a place of comfort and a source of distress is crucial in understanding the characters' motivations and the unfolding events. [Data: Entities (145)]\n\n## The Night as a Catalyst for Tension\n\nThe Night serves as a pivotal backdrop for Jon's experiences and actions, characterized by tension and uncertainty. During this time, Jon attempts to communicate with Laura, which adds to the overall atmosphere of unease. The night is significant for Jon as it is when he encounters his dreams and nightmares, profoundly influencing his emotional state. This setting not only heightens the tension but also shapes Jon's efforts to assist someone in distress, making the night a crucial element in the unfolding narrative. The interplay between the night and the village amplifies the emotional stakes for both characters. [Data: Entities (146)]\n\n## Interconnection of Village and Night\n\nThe relationship between the Village and the Night is critical in understanding the dynamics of this community. The events taking place at night in the village contribute to the overall tension of the situation, creating a setting ripe for conflict and emotional upheaval. This connection underscores how the environment influences the characters' actions and emotional states, making it a significant factor in the narrative. The combined degree of 5 indicates a strong relationship that enhances the thematic elements of tension and uncertainty. [Data: Relationships (167)]",
         "6.5",
         "The impact severity rating is moderate to high due to the emotional and psychological tension associated with the events occurring in the village at night.",
         "[{'explanation': \"The Village serves as a significant backdrop for both Laura and Jon, embodying a complex blend of nostalgia and emotional turmoil. For Laura, it is intertwined with her childhood memories and the site of a pivotal accident that continues to affect her emotionally. This connection to the past creates a layered emotional landscape that influences her actions and decisions. For Jon, the picturesque houses of the village, which gradually illuminate as night descends, create a serene atmosphere that contrasts with the underlying tension of the narrative. The duality of the village as both a place of comfort and a source of distress is crucial in understanding the characters' motivations and the unfolding events. [Data: Entities (145)]\", 'summary': 'The Village as a Complex Emotional Setting'}\n {'explanation': \"The Night serves as a pivotal backdrop for Jon's experiences and actions, characterized by tension and uncertainty. During this time, Jon attempts to communicate with Laura, which adds to the overall atmosphere of unease. The night is significant for Jon as it is when he encounters his dreams and nightmares, profoundly influencing his emotional state. This setting not only heightens the tension but also shapes Jon's efforts to assist someone in distress, making the night a crucial element in the unfolding narrative. The interplay between the night and the village amplifies the emotional stakes for both characters. [Data: Entities (146)]\", 'summary': 'The Night as a Catalyst for Tension'}\n {'explanation': \"The relationship between the Village and the Night is critical in understanding the dynamics of this community. The events taking place at night in the village contribute to the overall tension of the situation, creating a setting ripe for conflict and emotional upheaval. This connection underscores how the environment influences the characters' actions and emotional states, making it a significant factor in the narrative. The combined degree of 5 indicates a strong relationship that enhances the thematic elements of tension and uncertainty. [Data: Relationships (167)]\", 'summary': 'Interconnection of Village and Night'}]",
         "2025-03-28",
         "2"
        ]
       ],
       "shape": {
        "columns": 14,
        "rows": 2
       }
      },
      "text/html": [
       "<div>\n",
       "<style scoped>\n",
       "    .dataframe tbody tr th:only-of-type {\n",
       "        vertical-align: middle;\n",
       "    }\n",
       "\n",
       "    .dataframe tbody tr th {\n",
       "        vertical-align: top;\n",
       "    }\n",
       "\n",
       "    .dataframe thead th {\n",
       "        text-align: right;\n",
       "    }\n",
       "</style>\n",
       "<table border=\"1\" class=\"dataframe\">\n",
       "  <thead>\n",
       "    <tr style=\"text-align: right;\">\n",
       "      <th></th>\n",
       "      <th>id</th>\n",
       "      <th>human_readable_id</th>\n",
       "      <th>community</th>\n",
       "      <th>level</th>\n",
       "      <th>parent</th>\n",
       "      <th>children</th>\n",
       "      <th>title</th>\n",
       "      <th>summary</th>\n",
       "      <th>full_content</th>\n",
       "      <th>rank</th>\n",
       "      <th>rating_explanation</th>\n",
       "      <th>findings</th>\n",
       "      <th>period</th>\n",
       "      <th>size</th>\n",
       "    </tr>\n",
       "  </thead>\n",
       "  <tbody>\n",
       "    <tr>\n",
       "      <th>0</th>\n",
       "      <td>1603b040040d4ab2966d690bf7bf47fa</td>\n",
       "      <td>12</td>\n",
       "      <td>12</td>\n",
       "      <td>1</td>\n",
       "      <td>0</td>\n",
       "      <td>[]</td>\n",
       "      <td>Jon's Emotional Landscape and Public Persona</td>\n",
       "      <td>The community centers around Jon, a complex ch...</td>\n",
       "      <td># Jon's Emotional Landscape and Public Persona...</td>\n",
       "      <td>7.5</td>\n",
       "      <td>The impact severity rating is high due to Jon'...</td>\n",
       "      <td>[{'explanation': 'Jon is depicted as an actor ...</td>\n",
       "      <td>2025-03-28</td>\n",
       "      <td>129</td>\n",
       "    </tr>\n",
       "    <tr>\n",
       "      <th>1</th>\n",
       "      <td>f05099adb1ed4603832f1957880c415a</td>\n",
       "      <td>13</td>\n",
       "      <td>13</td>\n",
       "      <td>1</td>\n",
       "      <td>0</td>\n",
       "      <td>[]</td>\n",
       "      <td>Village and Night: A Tension-Filled Community</td>\n",
       "      <td>The community is centered around the Village a...</td>\n",
       "      <td># Village and Night: A Tension-Filled Communit...</td>\n",
       "      <td>6.5</td>\n",
       "      <td>The impact severity rating is moderate to high...</td>\n",
       "      <td>[{'explanation': 'The Village serves as a sign...</td>\n",
       "      <td>2025-03-28</td>\n",
       "      <td>2</td>\n",
       "    </tr>\n",
       "  </tbody>\n",
       "</table>\n",
       "</div>"
      ],
      "text/plain": [
       "                                 id  human_readable_id  community  level  \\\n",
       "0  1603b040040d4ab2966d690bf7bf47fa                 12         12      1   \n",
       "1  f05099adb1ed4603832f1957880c415a                 13         13      1   \n",
       "\n",
       "   parent children                                          title  \\\n",
       "0       0       []   Jon's Emotional Landscape and Public Persona   \n",
       "1       0       []  Village and Night: A Tension-Filled Community   \n",
       "\n",
       "                                             summary  \\\n",
       "0  The community centers around Jon, a complex ch...   \n",
       "1  The community is centered around the Village a...   \n",
       "\n",
       "                                        full_content  rank  \\\n",
       "0  # Jon's Emotional Landscape and Public Persona...   7.5   \n",
       "1  # Village and Night: A Tension-Filled Communit...   6.5   \n",
       "\n",
       "                                  rating_explanation  \\\n",
       "0  The impact severity rating is high due to Jon'...   \n",
       "1  The impact severity rating is moderate to high...   \n",
       "\n",
       "                                            findings      period  size  \n",
       "0  [{'explanation': 'Jon is depicted as an actor ...  2025-03-28   129  \n",
       "1  [{'explanation': 'The Village serves as a sign...  2025-03-28     2  "
      ]
     },
     "execution_count": 16,
     "metadata": {},
     "output_type": "execute_result"
    }
   ],
   "source": [
    "community_report_df = pd.read_parquet(f'{GRAPHRAG_FOLDER}/community_reports.parquet',\n",
    "                                    columns=[\"id\", \"human_readable_id\", \"community\", \"level\", \n",
    "                                            \"parent\", \"children\", \"title\", \"summary\", \n",
    "                                            \"full_content\", \"rank\", \"rating_explanation\", \n",
    "                                            \"findings\", \"period\", \"size\"])\n",
    "community_report_df.head(2)"
   ]
  },
  {
   "cell_type": "code",
   "execution_count": 17,
   "id": "47bb6f5c-4c1c-4849-8f1a-cb76fa98b925",
   "metadata": {},
   "outputs": [
    {
     "name": "stdout",
     "output_type": "stream",
     "text": [
      "{'_contains_updates': True, 'labels_added': 186, 'relationships_created': 186, 'nodes_created': 186, 'properties_set': 1009}\n",
      "41 rows in 0.7577090263366699 s.\n"
     ]
    },
    {
     "data": {
      "text/plain": [
       "41"
      ]
     },
     "execution_count": 17,
     "metadata": {},
     "output_type": "execute_result"
    }
   ],
   "source": [
    "# import communities\n",
    "community_report_statement = \"\"\"\n",
    "MATCH (c:__Community__ {community:value.community})\n",
    "SET c += value {.human_readable_id, .level, .title, .parent, .children, \n",
    "                .rank, .rating_explanation, .full_content, .summary,\n",
    "                .period, .size}\n",
    "WITH c, value\n",
    "UNWIND range(0, size(value.findings)-1) AS finding_idx\n",
    "WITH c, value, finding_idx, value.findings[finding_idx] as finding\n",
    "MERGE (c)-[:HAS_FINDING]->(f:Finding {id: c.id + '-' + finding_idx})\n",
    "SET f += finding\n",
    "\"\"\"\n",
    "\n",
    "batched_import(community_report_statement, community_report_df)"
   ]
  },
  {
   "cell_type": "markdown",
   "id": "44990c84-a2a8-4f1a-b758-fe1c1a02766f",
   "metadata": {},
   "source": [
    "### Importing Covariates\n",
    "Covariates are for instance claims on entities, we connect them to the chunks where they originate from.\n",
    "\n",
    "**By default, covariates are not included in the output, so the file might not exists in your output if you didn't set the configuration to extract claims**"
   ]
  },
  {
   "cell_type": "code",
   "execution_count": null,
   "id": "7131f3a0-2b71-4017-9dcd-24913d964dc0",
   "metadata": {},
   "outputs": [],
   "source": [
    "cov_df = pd.read_parquet(f'{GRAPHRAG_FOLDER}/covariates.parquet')\n",
    "cov_df.head(2)"
   ]
  },
  {
   "cell_type": "code",
   "execution_count": null,
   "id": "f0d2a7dc-8885-41f0-b971-39628d08b09a",
   "metadata": {},
   "outputs": [],
   "source": [
    "cov_statement = \"\"\"\n",
    "MERGE (c:__Covariate__ {id:value.id})\n",
    "SET c += apoc.map.clean(value, [\"text_unit_id\", \"document_ids\", \"n_tokens\"], [NULL, \"\"])\n",
    "WITH c, value\n",
    "MATCH (ch:__Chunk__ {id: value.text_unit_id})\n",
    "MERGE (ch)-[:HAS_COVARIATE]->(c)\n",
    "\"\"\"\n",
    "batched_import(cov_statement, cov_df)"
   ]
  }
 ],
 "metadata": {
  "kernelspec": {
   "display_name": ".venv",
   "language": "python",
   "name": "python3"
  },
  "language_info": {
   "codemirror_mode": {
    "name": "ipython",
    "version": 3
   },
   "file_extension": ".py",
   "mimetype": "text/x-python",
   "name": "python",
   "nbconvert_exporter": "python",
   "pygments_lexer": "ipython3",
   "version": "3.12.1"
  }
 },
 "nbformat": 4,
 "nbformat_minor": 5
}
